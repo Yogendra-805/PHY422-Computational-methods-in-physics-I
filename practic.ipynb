{
 "cells": [
  {
   "cell_type": "code",
   "execution_count": 12,
   "id": "83ff1e98",
   "metadata": {},
   "outputs": [],
   "source": [
    "def bisection(f, a , b, tol = 1e-6, max_etr = 1000):\n",
    "    if f(a)*f(b)>0:\n",
    "        return \"There are no root between a & b \"\n",
    "    for etr in range(max_etr):\n",
    "        c = (a+b)/2\n",
    "        if f(a)*f(c)<0:\n",
    "            b = c\n",
    "        else:\n",
    "            a = c\n",
    "        if abs(a-b) < tol:\n",
    "            return c, etr\n",
    "    \n",
    "    "
   ]
  },
  {
   "cell_type": "code",
   "execution_count": 13,
   "id": "f52e48fe",
   "metadata": {},
   "outputs": [],
   "source": [
    "def f1(x):\n",
    "    return x**2 - 2"
   ]
  },
  {
   "cell_type": "code",
   "execution_count": 14,
   "id": "6474f502",
   "metadata": {},
   "outputs": [
    {
     "data": {
      "text/plain": [
       "(1.4142141342163086, 20)"
      ]
     },
     "execution_count": 14,
     "metadata": {},
     "output_type": "execute_result"
    }
   ],
   "source": [
    "bisection(f1, 0, 2)"
   ]
  },
  {
   "cell_type": "code",
   "execution_count": 18,
   "id": "aa665628",
   "metadata": {},
   "outputs": [],
   "source": [
    "def itera(g, x0, tol = 1e-5, max_etr=1000):\n",
    "    x = x0\n",
    "    for etr in range(max_etr):\n",
    "        x_new = g(x)\n",
    "        if abs(x_new-x)<tol:\n",
    "            return x_new\n",
    "        x = x_new"
   ]
  },
  {
   "cell_type": "code",
   "execution_count": 19,
   "id": "5eddc82e",
   "metadata": {},
   "outputs": [],
   "source": [
    "def gauss_elimination(A, B):\n",
    "    n = len(B)\n",
    "\n",
    "    # Augmenting the matrix A with the column B\n",
    "    augmented_matrix = [row + [B[i]] for i, row in enumerate(A)]\n",
    "\n",
    "    # Forward elimination\n",
    "    for i in range(n):\n",
    "        # Make the diagonal element 1\n",
    "        factor = augmented_matrix[i][i]\n",
    "        for j in range(i, n + 1):\n",
    "            augmented_matrix[i][j] /= factor\n",
    "\n",
    "        # Make the other rows 0 in the current column\n",
    "        for k in range(i + 1, n):\n",
    "            factor = augmented_matrix[k][i]\n",
    "            for j in range(i, n + 1):\n",
    "                augmented_matrix[k][j] -= factor * augmented_matrix[i][j]\n",
    "\n",
    "    # Back substitution\n",
    "    x = [0] * n\n",
    "    for i in range(n - 1, -1, -1):\n",
    "        x[i] = augmented_matrix[i][n]\n",
    "        for j in range(i + 1, n):\n",
    "            x[i] -= augmented_matrix[i][j] * x[j]\n",
    "\n",
    "    return x"
   ]
  },
  {
   "cell_type": "code",
   "execution_count": 21,
   "id": "4545ff6c",
   "metadata": {},
   "outputs": [
    {
     "data": {
      "text/plain": [
       "array([[ 2,  5,  0, -4,  6],\n",
       "       [-4, -4, -3,  7, 36],\n",
       "       [-6, -3, -7, -6, 35],\n",
       "       [-1,  2, -6,  5, 63]])"
      ]
     },
     "execution_count": 21,
     "metadata": {},
     "output_type": "execute_result"
    }
   ],
   "source": [
    "import numpy as np\n",
    "A = np.array([[2, 5, 0, -4, 6],\n",
    "              [-4, -4, -3, 7, 36],\n",
    "              [-6, -3, -7, -6, 35],\n",
    "              [-1, 2, -6, 5, 63]])\n",
    "A"
   ]
  },
  {
   "cell_type": "code",
   "execution_count": 22,
   "id": "9d0e71c4",
   "metadata": {},
   "outputs": [],
   "source": [
    "b = A[:,-1]\n",
    "A = A[:,:-1]"
   ]
  },
  {
   "cell_type": "code",
   "execution_count": 24,
   "id": "3027fbaa",
   "metadata": {},
   "outputs": [
    {
     "ename": "IndexError",
     "evalue": "index 4 is out of bounds for axis 0 with size 4",
     "output_type": "error",
     "traceback": [
      "\u001b[0;31m---------------------------------------------------------------------------\u001b[0m",
      "\u001b[0;31mIndexError\u001b[0m                                Traceback (most recent call last)",
      "\u001b[0;32m/tmp/ipykernel_43005/2145307031.py\u001b[0m in \u001b[0;36m<module>\u001b[0;34m\u001b[0m\n\u001b[0;32m----> 1\u001b[0;31m \u001b[0mgauss_elimination\u001b[0m\u001b[0;34m(\u001b[0m\u001b[0mA\u001b[0m\u001b[0;34m,\u001b[0m\u001b[0mb\u001b[0m\u001b[0;34m)\u001b[0m\u001b[0;34m\u001b[0m\u001b[0;34m\u001b[0m\u001b[0m\n\u001b[0m",
      "\u001b[0;32m/tmp/ipykernel_43005/1731383464.py\u001b[0m in \u001b[0;36mgauss_elimination\u001b[0;34m(A, B)\u001b[0m\n\u001b[1;32m     10\u001b[0m         \u001b[0mfactor\u001b[0m \u001b[0;34m=\u001b[0m \u001b[0maugmented_matrix\u001b[0m\u001b[0;34m[\u001b[0m\u001b[0mi\u001b[0m\u001b[0;34m]\u001b[0m\u001b[0;34m[\u001b[0m\u001b[0mi\u001b[0m\u001b[0;34m]\u001b[0m\u001b[0;34m\u001b[0m\u001b[0;34m\u001b[0m\u001b[0m\n\u001b[1;32m     11\u001b[0m         \u001b[0;32mfor\u001b[0m \u001b[0mj\u001b[0m \u001b[0;32min\u001b[0m \u001b[0mrange\u001b[0m\u001b[0;34m(\u001b[0m\u001b[0mi\u001b[0m\u001b[0;34m,\u001b[0m \u001b[0mn\u001b[0m \u001b[0;34m+\u001b[0m \u001b[0;36m1\u001b[0m\u001b[0;34m)\u001b[0m\u001b[0;34m:\u001b[0m\u001b[0;34m\u001b[0m\u001b[0;34m\u001b[0m\u001b[0m\n\u001b[0;32m---> 12\u001b[0;31m             \u001b[0maugmented_matrix\u001b[0m\u001b[0;34m[\u001b[0m\u001b[0mi\u001b[0m\u001b[0;34m]\u001b[0m\u001b[0;34m[\u001b[0m\u001b[0mj\u001b[0m\u001b[0;34m]\u001b[0m \u001b[0;34m/=\u001b[0m \u001b[0mfactor\u001b[0m\u001b[0;34m\u001b[0m\u001b[0;34m\u001b[0m\u001b[0m\n\u001b[0m\u001b[1;32m     13\u001b[0m \u001b[0;34m\u001b[0m\u001b[0m\n\u001b[1;32m     14\u001b[0m         \u001b[0;31m# Make the other rows 0 in the current column\u001b[0m\u001b[0;34m\u001b[0m\u001b[0;34m\u001b[0m\u001b[0m\n",
      "\u001b[0;31mIndexError\u001b[0m: index 4 is out of bounds for axis 0 with size 4"
     ]
    }
   ],
   "source": [
    "gauss_elimination(A,b)"
   ]
  },
  {
   "cell_type": "code",
   "execution_count": 25,
   "id": "cff83cfd",
   "metadata": {},
   "outputs": [],
   "source": [
    "def row_swap(M, i, j):\n",
    "    mat = M.copy()\n",
    "    mat[i] = M[j]\n",
    "    mat[j] = M[i]\n",
    "    return mat\n",
    "\n",
    "def row_scale(M, row, scaler):\n",
    "    M[row] = M[row]*scaler\n",
    "    return M\n",
    "\n",
    "def row_add(M, i, j, scaler = 1):\n",
    "    mat = M.copy()\n",
    "    mat[i] = mat[i]*scaler + mat[j]\n",
    "    return mat"
   ]
  },
  {
   "cell_type": "code",
   "execution_count": 26,
   "id": "72072a96",
   "metadata": {},
   "outputs": [],
   "source": [
    "def row_reduction(matrix):\n",
    "    \"\"\"\n",
    "    Perform row reduction (Gaussian elimination) on the given matrix.\n",
    "\n",
    "    Parameters:\n",
    "    - matrix: 2D NumPy array representing the matrix\n",
    "    \"\"\"\n",
    "    rows, cols = matrix.shape\n",
    "    for pivot_row in range(min(rows, cols)):\n",
    "        # Ensure the pivot element is nonzero\n",
    "        if matrix[pivot_row, pivot_row] == 0:\n",
    "            non_zero_row = np.argmax(matrix[pivot_row:, pivot_row]) + pivot_row\n",
    "            row_swap(matrix, pivot_row, non_zero_row)\n",
    "\n",
    "        # Make the pivot element 1\n",
    "        pivot_value = matrix[pivot_row, pivot_row]\n",
    "        row_scale(matrix, pivot_row, 1 / pivot_value)\n",
    "\n",
    "        # Eliminate nonzero values below the pivot\n",
    "        for i in range(pivot_row + 1, rows):\n",
    "            multiplier = matrix[i, pivot_row]\n",
    "            row_add(matrix, pivot_row, i, -multiplier)\n",
    "\n",
    "def forward_substitution(matrix, b):\n",
    "    \"\"\"\n",
    "    Perform forward substitution to solve for variables in a lower triangular system.\n",
    "\n",
    "    Parameters:\n",
    "    - matrix: Lower triangular matrix (2D NumPy array)\n",
    "    - b: 1D NumPy array representing the right-hand side of the system\n",
    "    \"\"\"\n",
    "    n = len(b)\n",
    "    x = np.zeros(n)\n",
    "    for i in range(n):\n",
    "        x[i] = b[i] - np.dot(matrix[i, :i], x[:i])\n",
    "    return x\n",
    "\n",
    "def back_substitution(matrix, b):\n",
    "    \"\"\"\n",
    "    Perform back substitution to solve for variables in an upper triangular system.\n",
    "\n",
    "    Parameters:\n",
    "    - matrix: Upper triangular matrix (2D NumPy array)\n",
    "    - b: 1D NumPy array representing the right-hand side of the system\n",
    "    \"\"\"\n",
    "    n = len(b)\n",
    "    x = np.zeros(n)\n",
    "    for i in range(n - 1, -1, -1):\n",
    "        x[i] = (b[i] - np.dot(matrix[i, i + 1:], x[i + 1:])) / matrix[i, i]\n",
    "    return x\n"
   ]
  },
  {
   "cell_type": "code",
   "execution_count": 27,
   "id": "45250636",
   "metadata": {},
   "outputs": [],
   "source": [
    "def solve_linear_system(A, b):\n",
    "    \"\"\"\n",
    "    Solve a linear system Ax = b using Gaussian elimination.\n",
    "\n",
    "    Parameters:\n",
    "    - A: Coefficient matrix (2D NumPy array)\n",
    "    - b: Right-hand side vector (1D NumPy array)\n",
    "\n",
    "    Returns:\n",
    "    - x: Solution vector\n",
    "    \"\"\"\n",
    "    # Combine A and b into an augmented matrix\n",
    "    augmented_matrix = np.column_stack((A, b))\n",
    "\n",
    "    # Apply row reduction\n",
    "    row_reduction(augmented_matrix)\n",
    "\n",
    "    # Separate the augmented matrix back into A and b\n",
    "    A_reduced = augmented_matrix[:, :-1]\n",
    "    b_reduced = augmented_matrix[:, -1]\n",
    "\n",
    "    # Solve the system using back substitution\n",
    "    y = forward_substitution(A_reduced, b_reduced)\n",
    "    x = back_substitution(A_reduced, y)\n",
    "\n",
    "    return x"
   ]
  },
  {
   "cell_type": "code",
   "execution_count": 28,
   "id": "2fdab5a2",
   "metadata": {},
   "outputs": [],
   "source": [
    "# Given data\n",
    "data = {\n",
    "    0: 200,\n",
    "    1: 400,\n",
    "    2: 650,\n",
    "    3: 850,\n",
    "    4: 950\n",
    "}\n",
    "\n",
    "# Given limiting value\n",
    "L = 1000"
   ]
  },
  {
   "cell_type": "code",
   "execution_count": null,
   "id": "cf144ada",
   "metadata": {},
   "outputs": [],
   "source": []
  },
  {
   "cell_type": "code",
   "execution_count": null,
   "id": "f83cceef",
   "metadata": {},
   "outputs": [],
   "source": []
  },
  {
   "cell_type": "code",
   "execution_count": null,
   "id": "ca038306",
   "metadata": {},
   "outputs": [],
   "source": []
  },
  {
   "cell_type": "code",
   "execution_count": 38,
   "id": "6c52c401",
   "metadata": {},
   "outputs": [],
   "source": [
    "# Transform the data\n",
    "X_values = np.array(list(data.keys()))\n",
    "Y_values = np.log(L / np.array(list(data.values())) - 1)\n",
    "\n",
    "# Function to perform linear fit\n",
    "def linear_fit(X_values, Y_values):\n",
    "    n = len(X_values)\n",
    "    \n",
    "    sum_X = np.sum(X_values)\n",
    "    sum_Y = np.sum(Y_values)\n",
    "    sum_X_squared = np.sum(X_values**2)\n",
    "    sum_XY = np.sum(X_values * Y_values)\n",
    "\n",
    "    A = np.array([[n, sum_X], [sum_X, sum_X_squared]])\n",
    "    B = np.array([sum_Y, sum_XY])\n",
    "\n",
    "    # Solve the system using Gaussian elimination\n",
    "    Av = solve_linear_system(A,B)\n",
    "\n",
    "    return Av"
   ]
  },
  {
   "cell_type": "code",
   "execution_count": 41,
   "id": "3606c6d5",
   "metadata": {},
   "outputs": [],
   "source": [
    "A,B = linear_fit(X_values, Y_values)"
   ]
  },
  {
   "cell_type": "code",
   "execution_count": 44,
   "id": "cc5367ab",
   "metadata": {},
   "outputs": [
    {
     "name": "stdout",
     "output_type": "stream",
     "text": [
      "A = 0.01883823485805247, B = -0.36005109480229786\n"
     ]
    },
    {
     "data": {
      "image/png": "[encoded data removed]",
      "text/plain": [
       "<Figure size 432x288 with 1 Axes>"
      ]
     },
     "metadata": {
      "needs_background": "light"
     },
     "output_type": "display_data"
    }
   ],
   "source": [
    "# # Extract A and B from the coefficients\n",
    "# A = A_coeff\n",
    "# B = B_coeff\n",
    "\n",
    "# Print the coefficients\n",
    "print(f'A = {A}, B = {B}')\n",
    "\n",
    "# Plot the data and the linear fit\n",
    "plt.scatter(X_values, Y_values, label='Data')\n",
    "plt.plot(X_values, A * X_values + B, label='Linear Fit')\n",
    "\n",
    "plt.xlabel('Time (t)')\n",
    "plt.ylabel('ln(L/P - 1)')\n",
    "plt.legend()\n",
    "plt.show()\n"
   ]
  },
  {
   "cell_type": "code",
   "execution_count": 43,
   "id": "82c3b9dd",
   "metadata": {},
   "outputs": [],
   "source": [
    "import numpy as np\n",
    "import matplotlib.pyplot as plt"
   ]
  },
  {
   "cell_type": "code",
   "execution_count": null,
   "id": "862981c8",
   "metadata": {},
   "outputs": [],
   "source": []
  },
  {
   "cell_type": "code",
   "execution_count": null,
   "id": "e0811fae",
   "metadata": {},
   "outputs": [],
   "source": []
  },
  {
   "cell_type": "code",
   "execution_count": null,
   "id": "bc4dc7cb",
   "metadata": {},
   "outputs": [],
   "source": []
  },
  {
   "cell_type": "code",
   "execution_count": 33,
   "id": "cbc90c63",
   "metadata": {},
   "outputs": [
    {
     "data": {
      "text/plain": [
       "array([27., -5., -5.,  7.])"
      ]
     },
     "execution_count": 33,
     "metadata": {},
     "output_type": "execute_result"
    }
   ],
   "source": [
    "ans"
   ]
  },
  {
   "cell_type": "code",
   "execution_count": 35,
   "id": "fdd26c0a",
   "metadata": {},
   "outputs": [
    {
     "data": {
      "text/plain": [
       "array([[ 2,  5,  0, -4],\n",
       "       [-4, -4, -3,  7],\n",
       "       [-6, -3, -7, -6],\n",
       "       [-1,  2, -6,  5]])"
      ]
     },
     "execution_count": 35,
     "metadata": {},
     "output_type": "execute_result"
    }
   ],
   "source": [
    "A"
   ]
  },
  {
   "cell_type": "code",
   "execution_count": 36,
   "id": "8d368a02",
   "metadata": {},
   "outputs": [
    {
     "data": {
      "text/plain": [
       "array([ 6, 36, 35, 63])"
      ]
     },
     "execution_count": 36,
     "metadata": {},
     "output_type": "execute_result"
    }
   ],
   "source": [
    "b"
   ]
  },
  {
   "cell_type": "code",
   "execution_count": null,
   "id": "a18f2874",
   "metadata": {},
   "outputs": [],
   "source": []
  }
 ],
 "metadata": {
  "kernelspec": {
   "display_name": "Python 3 (ipykernel)",
   "language": "python",
   "name": "python3"
  },
  "language_info": {
   "codemirror_mode": {
    "name": "ipython",
    "version": 3
   },
   "file_extension": ".py",
   "mimetype": "text/x-python",
   "name": "python",
   "nbconvert_exporter": "python",
   "pygments_lexer": "ipython3",
   "version": "3.10.12"
  }
 },
 "nbformat": 4,
 "nbformat_minor": 5
}
