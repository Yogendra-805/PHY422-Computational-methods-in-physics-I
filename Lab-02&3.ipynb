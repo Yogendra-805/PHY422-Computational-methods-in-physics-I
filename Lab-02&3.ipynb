{
 "cells": [
  {
   "cell_type": "markdown",
   "id": "3db1b979",
   "metadata": {},
   "source": [
    "## 1.\n",
    "Write computer codes for the following methods of finding roots (or zeros) of nonlinear\n",
    "equation f (x) = 0\n",
    "1. Iteration method\n",
    "2. Bisection method\n",
    "3. Method of false position (Regula falsi method)\n",
    "4. Newton-Raphson method\n",
    "5. Secant method"
   ]
  },
  {
   "cell_type": "code",
   "execution_count": 15,
   "id": "57a31033",
   "metadata": {},
   "outputs": [],
   "source": [
    "import numpy as np"
   ]
  },
  {
   "cell_type": "markdown",
   "id": "1bdccac0",
   "metadata": {},
   "source": [
    "### Iteration method"
   ]
  },
  {
   "cell_type": "code",
   "execution_count": 1,
   "id": "e2d184cf",
   "metadata": {},
   "outputs": [],
   "source": [
    "# Example usage:\n",
    "def g(x):\n",
    "    return 0.5*(x + 2/x)"
   ]
  },
  {
   "cell_type": "code",
   "execution_count": 2,
   "id": "7db72618",
   "metadata": {},
   "outputs": [],
   "source": [
    "def fixed_point_iteration(g, x0, tol=1e-6, max_iter=100):\n",
    "    x = x0\n",
    "    for i in range(max_iter):\n",
    "        x_new = g(x)\n",
    "        if abs(x_new - x) < tol:\n",
    "            return x_new, i + 1 \n",
    "\n",
    "        x = x_new\n",
    "\n",
    "    raise ValueError(\"Fixed-point iteration did not converge within the maximum number of iterations\")\n"
   ]
  },
  {
   "cell_type": "code",
   "execution_count": 3,
   "id": "867935f3",
   "metadata": {},
   "outputs": [
    {
     "data": {
      "text/plain": [
       "(1.414213562373095, 6)"
      ]
     },
     "execution_count": 3,
     "metadata": {},
     "output_type": "execute_result"
    }
   ],
   "source": [
    "fixed_point_iteration(g, 1, 1e-12, 100)"
   ]
  },
  {
   "cell_type": "code",
   "execution_count": null,
   "id": "aeedfbb3",
   "metadata": {},
   "outputs": [],
   "source": []
  },
  {
   "cell_type": "markdown",
   "id": "15015920",
   "metadata": {},
   "source": [
    "### Bisection method"
   ]
  },
  {
   "cell_type": "code",
   "execution_count": 4,
   "id": "0e5410a1",
   "metadata": {},
   "outputs": [],
   "source": [
    "def bisection(f, a, b, tol=1e-12):\n",
    "    if f(a) * f(b) > 0:\n",
    "        print(\"Root does not exist on this interval\")\n",
    "    while abs(a - b) > tol:\n",
    "        c = (a + b) / 2\n",
    "        if f(a) * f(c) <= 0:\n",
    "            b = c\n",
    "        else:\n",
    "            a = c\n",
    "    print(\"Approximate root:\", (a + b) / 2)"
   ]
  },
  {
   "cell_type": "code",
   "execution_count": 5,
   "id": "62e5c907",
   "metadata": {},
   "outputs": [],
   "source": [
    "def f(x):\n",
    "    return x**2 - 2"
   ]
  },
  {
   "cell_type": "code",
   "execution_count": 6,
   "id": "93b083ba",
   "metadata": {},
   "outputs": [
    {
     "name": "stdout",
     "output_type": "stream",
     "text": [
      "Approximate root: 1.414213562372879\n"
     ]
    }
   ],
   "source": [
    "bisection(f, 1, 2)"
   ]
  },
  {
   "cell_type": "code",
   "execution_count": null,
   "id": "9e127a8d",
   "metadata": {},
   "outputs": [],
   "source": []
  },
  {
   "cell_type": "markdown",
   "id": "8cd70947",
   "metadata": {},
   "source": [
    "### Method of false position (Regula falsi method)"
   ]
  },
  {
   "cell_type": "code",
   "execution_count": 7,
   "id": "41752bab",
   "metadata": {},
   "outputs": [],
   "source": [
    "def regula_falsi(f, a, b, tol=1e-6, max_itr = 100):\n",
    "    if f(a) * f(b) > 0:\n",
    "        print(\"Root does not exist on this interval\") \n",
    "        return\n",
    "    \n",
    "    for itr in range(max_itr):\n",
    "        c = b - (f(b) * (b - a)) / (f(b) - f(a))\n",
    "        if abs(f(c)) < tol:\n",
    "            print(\"Approximate root:\", c, \"itr: \", itr)\n",
    "            return\n",
    "        elif f(a)*f(c)<=0:\n",
    "            b =c\n",
    "        else:\n",
    "            a = c"
   ]
  },
  {
   "cell_type": "code",
   "execution_count": 8,
   "id": "a4b84719",
   "metadata": {},
   "outputs": [
    {
     "name": "stdout",
     "output_type": "stream",
     "text": [
      "Approximate root: 1.4142134998513232 itr:  8\n"
     ]
    }
   ],
   "source": [
    "regula_falsi(f, 1, 2)"
   ]
  },
  {
   "cell_type": "code",
   "execution_count": null,
   "id": "1de880de",
   "metadata": {},
   "outputs": [],
   "source": []
  },
  {
   "cell_type": "markdown",
   "id": "d33f640d",
   "metadata": {},
   "source": [
    "### Newton-Raphson method"
   ]
  },
  {
   "cell_type": "code",
   "execution_count": 9,
   "id": "1b3de38d",
   "metadata": {},
   "outputs": [],
   "source": [
    "def newton_raphson(f, fp, x0, tol = 1e-6, max_itr = 1000):\n",
    "    for itr in range(max_itr):\n",
    "        x1 = x0 - f(x0)/fp(x0)\n",
    "        if abs(x1-x0)<tol:\n",
    "            print(\"Approximate root:\",  x1)\n",
    "            return\n",
    "        x0 = x1\n",
    "    print(\"Method did not converge\")\n",
    "        "
   ]
  },
  {
   "cell_type": "code",
   "execution_count": 10,
   "id": "16f13eb8",
   "metadata": {},
   "outputs": [
    {
     "name": "stdout",
     "output_type": "stream",
     "text": [
      "Approximate root: 1.4142135623730951\n"
     ]
    }
   ],
   "source": [
    "def f(x):\n",
    "    return x**2 - 2\n",
    "def fp(x):\n",
    "    return 2*x\n",
    "newton_raphson(f, fp, 1.5, 1e-6, 10000)"
   ]
  },
  {
   "cell_type": "code",
   "execution_count": null,
   "id": "d991b184",
   "metadata": {},
   "outputs": [],
   "source": []
  },
  {
   "cell_type": "markdown",
   "id": "6d7f309c",
   "metadata": {},
   "source": [
    "### Secant method"
   ]
  },
  {
   "cell_type": "code",
   "execution_count": 11,
   "id": "f1dedf93",
   "metadata": {},
   "outputs": [],
   "source": [
    "def secant(f, x0, x1, tol = 1e-6, max_itr = 100):\n",
    "    for itr in range(max_itr):\n",
    "        x2 = x1 - (f(x1)*(x1 - x0))/ (f(x1) - f(x0))\n",
    "        if abs(x2-x1)<tol:\n",
    "            print(\"Approximate root:\", x2)\n",
    "            return\n",
    "        x0 = x1\n",
    "        x1 = x2\n",
    "    print(\"Method did not converge\")\n"
   ]
  },
  {
   "cell_type": "code",
   "execution_count": 12,
   "id": "1ef3ab87",
   "metadata": {},
   "outputs": [
    {
     "name": "stdout",
     "output_type": "stream",
     "text": [
      "Approximate root: 1.4142135623722403\n"
     ]
    }
   ],
   "source": [
    "secant(f, 1, 1.2, tol=1e-6, max_itr=10000)"
   ]
  },
  {
   "cell_type": "code",
   "execution_count": null,
   "id": "b654d5ff",
   "metadata": {},
   "outputs": [],
   "source": []
  },
  {
   "cell_type": "markdown",
   "id": "bcf29672",
   "metadata": {},
   "source": [
    "## 2. \n",
    "Approximate the fixed points for the function $g(x) = x^{x−cos(x)}$ accurate to 12 decimal\n",
    "places."
   ]
  },
  {
   "cell_type": "code",
   "execution_count": 13,
   "id": "fcc00e4f",
   "metadata": {},
   "outputs": [],
   "source": [
    "def g(x):\n",
    "    return (1 + np.cos(x))\n"
   ]
  },
  {
   "cell_type": "code",
   "execution_count": 16,
   "id": "51319a82",
   "metadata": {},
   "outputs": [
    {
     "ename": "ValueError",
     "evalue": "Fixed-point iteration did not converge within the maximum number of iterations",
     "output_type": "error",
     "traceback": [
      "\u001b[0;31m---------------------------------------------------------------------------\u001b[0m",
      "\u001b[0;31mValueError\u001b[0m                                Traceback (most recent call last)",
      "\u001b[0;32m/tmp/ipykernel_14358/740675221.py\u001b[0m in \u001b[0;36m<module>\u001b[0;34m\u001b[0m\n\u001b[0;32m----> 1\u001b[0;31m \u001b[0mfixed_point_iteration\u001b[0m\u001b[0;34m(\u001b[0m\u001b[0mg\u001b[0m\u001b[0;34m,\u001b[0m \u001b[0;36m0.7\u001b[0m\u001b[0;34m)\u001b[0m\u001b[0;34m\u001b[0m\u001b[0;34m\u001b[0m\u001b[0m\n\u001b[0m",
      "\u001b[0;32m/tmp/ipykernel_14358/1551321029.py\u001b[0m in \u001b[0;36mfixed_point_iteration\u001b[0;34m(g, x0, tol, max_iter)\u001b[0m\n\u001b[1;32m      8\u001b[0m         \u001b[0mx\u001b[0m \u001b[0;34m=\u001b[0m \u001b[0mx_new\u001b[0m\u001b[0;34m\u001b[0m\u001b[0;34m\u001b[0m\u001b[0m\n\u001b[1;32m      9\u001b[0m \u001b[0;34m\u001b[0m\u001b[0m\n\u001b[0;32m---> 10\u001b[0;31m     \u001b[0;32mraise\u001b[0m \u001b[0mValueError\u001b[0m\u001b[0;34m(\u001b[0m\u001b[0;34m\"Fixed-point iteration did not converge within the maximum number of iterations\"\u001b[0m\u001b[0;34m)\u001b[0m\u001b[0;34m\u001b[0m\u001b[0;34m\u001b[0m\u001b[0m\n\u001b[0m",
      "\u001b[0;31mValueError\u001b[0m: Fixed-point iteration did not converge within the maximum number of iterations"
     ]
    }
   ],
   "source": [
    "fixed_point_iteration(g, 0.7)"
   ]
  },
  {
   "cell_type": "markdown",
   "id": "a2f2cc0f",
   "metadata": {},
   "source": [
    "# 3. Solve the following problems using the above methods."
   ]
  },
  {
   "cell_type": "markdown",
   "id": "e42576a9",
   "metadata": {},
   "source": [
    "A spherical ball of radius r = 10cm is submerged to a depth d in water. Assume\n",
    "that the density of the ball is ρ = 0.638. Find the depth d?\n",
    "\n",
    "$d^3 -30 d^2 + 2552 = 0$"
   ]
  },
  {
   "cell_type": "code",
   "execution_count": 17,
   "id": "d186fa03",
   "metadata": {},
   "outputs": [],
   "source": [
    "def d(x):\n",
    "    return x**3 - 30*x**2 + 2552"
   ]
  },
  {
   "cell_type": "code",
   "execution_count": 18,
   "id": "8e320780",
   "metadata": {},
   "outputs": [],
   "source": [
    "import matplotlib.pyplot as plt\n",
    "import numpy as np"
   ]
  },
  {
   "cell_type": "code",
   "execution_count": 19,
   "id": "8bfd1fda",
   "metadata": {},
   "outputs": [
    {
     "data": {
      "image/png": "[encoded data removed]",
      "text/plain": [
       "<Figure size 432x288 with 1 Axes>"
      ]
     },
     "metadata": {
      "needs_background": "light"
     },
     "output_type": "display_data"
    }
   ],
   "source": [
    "x = np.linspace(11.5, 12, 1200)\n",
    "y = d(x)\n",
    "plt.plot(x, y)\n",
    "plt.grid(True)"
   ]
  },
  {
   "cell_type": "code",
   "execution_count": 20,
   "id": "410de613",
   "metadata": {},
   "outputs": [],
   "source": [
    "def g3(x):\n",
    "    return (x**3 + 2552)/30*x"
   ]
  },
  {
   "cell_type": "code",
   "execution_count": 21,
   "id": "4a3be5d2",
   "metadata": {},
   "outputs": [
    {
     "name": "stdout",
     "output_type": "stream",
     "text": [
      "Approximate root: 11.861501508120636\n"
     ]
    }
   ],
   "source": [
    "bisection(d, 11.5, 11.9)"
   ]
  },
  {
   "cell_type": "code",
   "execution_count": 22,
   "id": "aa639824",
   "metadata": {},
   "outputs": [
    {
     "name": "stdout",
     "output_type": "stream",
     "text": [
      "Approximate root: 11.861501508188738 itr:  3\n"
     ]
    }
   ],
   "source": [
    "regula_falsi(d, 11.5, 11.9)"
   ]
  },
  {
   "cell_type": "code",
   "execution_count": 23,
   "id": "ef997645",
   "metadata": {},
   "outputs": [
    {
     "name": "stdout",
     "output_type": "stream",
     "text": [
      "Approximate root: 11.861501508120416\n"
     ]
    }
   ],
   "source": [
    "def dp(x):\n",
    "    return 3*(x**2) - 60*x\n",
    "newton_raphson(d, dp, 11.6)"
   ]
  },
  {
   "cell_type": "code",
   "execution_count": 24,
   "id": "bc1286e6",
   "metadata": {},
   "outputs": [
    {
     "name": "stdout",
     "output_type": "stream",
     "text": [
      "Approximate root: 11.861501508120414\n"
     ]
    }
   ],
   "source": [
    "secant(d, 11.5, 11.6)"
   ]
  },
  {
   "cell_type": "code",
   "execution_count": null,
   "id": "7af41146",
   "metadata": {},
   "outputs": [],
   "source": []
  },
  {
   "cell_type": "markdown",
   "id": "344b5081",
   "metadata": {},
   "source": [
    "### (B)\n",
    "Suppose a projectile is fired from the origin with an angle of elevation θ0 and initial\n",
    "velocity v0 . The equations of motion for a projectile with air resistance, which is\n",
    "directly proportional to the velocity of the projectile (i.e., Stokes drag) are\n",
    "\n",
    "$y(t) = (Cv_y + C^2 g)(1 − e^{−t/C} )$\n",
    "\n",
    "$x(t) = Cv_x (1 − e^{−t/C} )$\n",
    "\n",
    "where $v_x$ and $v_y$ are the horizontal and vertical components of the velocity, g is the\n",
    "acceleration due to gravity and C = m/k, ratio of mass of the projectile and the\n",
    "coefficient of air friction. Find the time of flight and the range of the projectile if\n",
    "θ0 = 45◦ and v0 = 100 m/s. [Take C = 10 and g = 9.8m/s2 ]."
   ]
  },
  {
   "cell_type": "code",
   "execution_count": 28,
   "id": "06243ba2",
   "metadata": {},
   "outputs": [],
   "source": [
    "def y(t):\n",
    "    return 1480*(1-np.exp(-t/10)) - 98*t"
   ]
  },
  {
   "cell_type": "code",
   "execution_count": 26,
   "id": "5226bd5b",
   "metadata": {},
   "outputs": [
    {
     "data": {
      "image/png": "[encoded data removed]",
      "text/plain": [
       "<Figure size 432x288 with 1 Axes>"
      ]
     },
     "metadata": {
      "needs_background": "light"
     },
     "output_type": "display_data"
    }
   ],
   "source": [
    "x = np.linspace(8.6, 9, 1200)\n",
    "y = y(x)\n",
    "plt.plot(x, y)\n",
    "plt.grid(True)"
   ]
  },
  {
   "cell_type": "code",
   "execution_count": 29,
   "id": "beb6df7a",
   "metadata": {},
   "outputs": [
    {
     "name": "stdout",
     "output_type": "stream",
     "text": [
      "Approximate root: 8.900792092542181\n"
     ]
    }
   ],
   "source": [
    "bisection(y, 8.6, 9)"
   ]
  },
  {
   "cell_type": "code",
   "execution_count": 30,
   "id": "1863e81a",
   "metadata": {},
   "outputs": [
    {
     "name": "stdout",
     "output_type": "stream",
     "text": [
      "Approximate root: 8.900792091261845 itr:  3\n"
     ]
    }
   ],
   "source": [
    "regula_falsi(y, 8.6, 9)"
   ]
  },
  {
   "cell_type": "code",
   "execution_count": 31,
   "id": "2653b23b",
   "metadata": {},
   "outputs": [
    {
     "name": "stdout",
     "output_type": "stream",
     "text": [
      "Approximate root: 8.90079209254198\n"
     ]
    }
   ],
   "source": [
    "def yp(x):\n",
    "    return 148*np.exp(-x/10)-98\n",
    "newton_raphson(y, yp, 8.6)"
   ]
  },
  {
   "cell_type": "code",
   "execution_count": 32,
   "id": "7b1e94e5",
   "metadata": {},
   "outputs": [
    {
     "name": "stdout",
     "output_type": "stream",
     "text": [
      "Approximate root: 8.900792092547233\n"
     ]
    }
   ],
   "source": [
    "secant(y, 8.5, 8.6)"
   ]
  },
  {
   "cell_type": "code",
   "execution_count": null,
   "id": "0c9e70cb",
   "metadata": {},
   "outputs": [],
   "source": []
  },
  {
   "cell_type": "markdown",
   "id": "4bf0695d",
   "metadata": {},
   "source": [
    "## (C)\n",
    "Let h(x) = x sin(x). Find the value of x that lies in the interval [0, 2], where the\n",
    "function takes on the value h(x) = 1 (the function sin(x) is evaluated in radians)."
   ]
  },
  {
   "cell_type": "code",
   "execution_count": 33,
   "id": "28841432",
   "metadata": {},
   "outputs": [],
   "source": [
    "def h(x):\n",
    "    return x*(np.sin(x))-1"
   ]
  },
  {
   "cell_type": "code",
   "execution_count": 34,
   "id": "b86b8d32",
   "metadata": {},
   "outputs": [
    {
     "data": {
      "image/png": "[encoded data removed]",
      "text/plain": [
       "<Figure size 432x288 with 1 Axes>"
      ]
     },
     "metadata": {
      "needs_background": "light"
     },
     "output_type": "display_data"
    }
   ],
   "source": [
    "x = np.linspace(1, 1.5, 1200)\n",
    "y = h(x)\n",
    "plt.plot(x, y)\n",
    "plt.grid(True)"
   ]
  },
  {
   "cell_type": "code",
   "execution_count": 35,
   "id": "dbb8e5a3",
   "metadata": {},
   "outputs": [
    {
     "name": "stdout",
     "output_type": "stream",
     "text": [
      "Approximate root: 1.1141571408720665\n"
     ]
    }
   ],
   "source": [
    "bisection(h, 1, 1.5)"
   ]
  },
  {
   "cell_type": "code",
   "execution_count": 36,
   "id": "20b99e41",
   "metadata": {},
   "outputs": [
    {
     "name": "stdout",
     "output_type": "stream",
     "text": [
      "Approximate root: 1.114157140746564 itr:  2\n"
     ]
    }
   ],
   "source": [
    "regula_falsi(h, 1, 1.5)"
   ]
  },
  {
   "cell_type": "code",
   "execution_count": 37,
   "id": "40c53655",
   "metadata": {},
   "outputs": [
    {
     "name": "stdout",
     "output_type": "stream",
     "text": [
      "Approximate root: 1.11415714087193\n"
     ]
    }
   ],
   "source": [
    "def hp(x):\n",
    "    return x*(np.cos(x))+ np.sin(x)\n",
    "newton_raphson(h, hp, 1)"
   ]
  },
  {
   "cell_type": "code",
   "execution_count": 38,
   "id": "2a69e388",
   "metadata": {},
   "outputs": [
    {
     "name": "stdout",
     "output_type": "stream",
     "text": [
      "Approximate root: 1.114157140871928\n"
     ]
    }
   ],
   "source": [
    "secant(h, 1, 1.1)"
   ]
  },
  {
   "cell_type": "code",
   "execution_count": null,
   "id": "56dc671d",
   "metadata": {},
   "outputs": [],
   "source": []
  },
  {
   "cell_type": "code",
   "execution_count": null,
   "id": "e8cc9089",
   "metadata": {},
   "outputs": [],
   "source": []
  },
  {
   "cell_type": "markdown",
   "id": "814bf985",
   "metadata": {},
   "source": [
    "## (d) \n",
    "A unit sphere is cut into two segments by a plane. One segment has three times the volume of the other. Determine the distance $x$ of the plane from the center of the sphere (accurate to 10 decimal places). [Hint: The volume of a spherical cap of hight $h$ cut from a sphere of radius $r$ is $\\left.V_c=\\frac{\\pi h^2}{3}(3 r-h)\\right]$"
   ]
  },
  {
   "cell_type": "code",
   "execution_count": 42,
   "id": "fe24a20d",
   "metadata": {},
   "outputs": [],
   "source": [
    "def equation(x, r):\n",
    "    return np.pi * (r + x)**2 / 3 * (3 * r - (r + x)) - 3 * np.pi * (r - x)**2 / 3 * (3 * r - (r - x))"
   ]
  },
  {
   "cell_type": "code",
   "execution_count": 43,
   "id": "adbb4a66",
   "metadata": {},
   "outputs": [
    {
     "name": "stdout",
     "output_type": "stream",
     "text": [
      "The distance x is approximately: 0.3472963553\n"
     ]
    }
   ],
   "source": [
    "# Radius of the unit sphere\n",
    "r = 1.0\n",
    "\n",
    "# Initial interval for bisection\n",
    "a = 0.0\n",
    "b = 1.0\n",
    "\n",
    "# Solve the equation using the bisection method\n",
    "result = bisection(equation, a, b)\n",
    "\n",
    "# Print the result (distance x from the center of the sphere)\n",
    "if result is not None:\n",
    "    print(f\"The distance x is approximately: {result:.10f}\")\n"
   ]
  },
  {
   "cell_type": "code",
   "execution_count": null,
   "id": "b91014a1",
   "metadata": {},
   "outputs": [],
   "source": []
  },
  {
   "cell_type": "markdown",
   "id": "d0f293b1",
   "metadata": {},
   "source": [
    "### 4. \n",
    "Use Newton’s square-root and cube-root methods to approximate 7 and $7^{1/3}$ accurate to 10 decimal places."
   ]
  },
  {
   "cell_type": "code",
   "execution_count": 41,
   "id": "f4afe06d",
   "metadata": {},
   "outputs": [],
   "source": [
    "def newton_sqrt(A, x0, tol=1e-10, max_iter=1000):\n",
    "    for itr in range(max_iter):\n",
    "        x1 = 0.5*(x0 + A/x0)\n",
    "        if abs(x1-x0) < tol:\n",
    "            return x1, itr\n",
    "        x0 = x1"
   ]
  },
  {
   "cell_type": "code",
   "execution_count": 42,
   "id": "65fe8870",
   "metadata": {},
   "outputs": [
    {
     "data": {
      "text/plain": [
       "(2.6457513110645907, 5)"
      ]
     },
     "execution_count": 42,
     "metadata": {},
     "output_type": "execute_result"
    }
   ],
   "source": [
    "newton_sqrt(7, 1)"
   ]
  },
  {
   "cell_type": "code",
   "execution_count": 53,
   "id": "f0d1e848",
   "metadata": {},
   "outputs": [
    {
     "name": "stdout",
     "output_type": "stream",
     "text": [
      "Approximate root: 2.6457513110645907\n"
     ]
    }
   ],
   "source": [
    "def sq(x):\n",
    "    return x**2 - 7\n",
    "def sq_dev(x):\n",
    "    return 2*x\n",
    "newton_raphson(sq, sq_dev, 1)"
   ]
  },
  {
   "cell_type": "code",
   "execution_count": null,
   "id": "be59ecf4",
   "metadata": {},
   "outputs": [],
   "source": []
  },
  {
   "cell_type": "code",
   "execution_count": 43,
   "id": "8409eb17",
   "metadata": {},
   "outputs": [],
   "source": [
    "def newton_cube(A, x0, tol=1e-10, max_iter=1000):\n",
    "    for itr in range(max_iter):\n",
    "        x1 = (1/3)*(2*x0+A/(x0**2))\n",
    "        if abs(x1-x0) < tol:\n",
    "            return x1, itr\n",
    "        x0 = x1    "
   ]
  },
  {
   "cell_type": "code",
   "execution_count": 44,
   "id": "0fdb4f12",
   "metadata": {},
   "outputs": [
    {
     "data": {
      "text/plain": [
       "(1.912931182772389, 6)"
      ]
     },
     "execution_count": 44,
     "metadata": {},
     "output_type": "execute_result"
    }
   ],
   "source": [
    "newton_cube(7, 1)"
   ]
  },
  {
   "cell_type": "code",
   "execution_count": 55,
   "id": "5f79c97a",
   "metadata": {},
   "outputs": [
    {
     "name": "stdout",
     "output_type": "stream",
     "text": [
      "Approximate root: 1.9129311827727737\n"
     ]
    }
   ],
   "source": [
    "def cube(x):\n",
    "    return x**3 - 7\n",
    "def cube_dev(x):\n",
    "    return 3*x**2\n",
    "newton_raphson(cube, cube_dev, 1)"
   ]
  },
  {
   "cell_type": "code",
   "execution_count": null,
   "id": "d7d8be0f",
   "metadata": {},
   "outputs": [],
   "source": []
  },
  {
   "cell_type": "markdown",
   "id": "3e728e9f",
   "metadata": {},
   "source": [
    "# 5. \n",
    "Starting with an initial approximation $p_0=2$, find the root $p=1$ of order $M=2$ for the function $f(x)=(x-1) \\ln (x)$ using accelerated Newton-Raphson algorithm."
   ]
  },
  {
   "cell_type": "code",
   "execution_count": 57,
   "id": "b64c45f5",
   "metadata": {},
   "outputs": [
    {
     "name": "stdout",
     "output_type": "stream",
     "text": [
      "Approximate root: 1.0\n"
     ]
    }
   ],
   "source": [
    "def acc_newton_raphson(f, fp, x0, m, tol = 1e-6, max_itr = 1000):\n",
    "    for itr in range(max_itr):\n",
    "        x1 = x0 - m*(f(x0)/fp(x0))\n",
    "        if abs(x1-x0)<tol:\n",
    "            print(\"Approximate root:\",  x1)\n",
    "            return\n",
    "        x0 = x1\n",
    "    print(\"Method did not converge\")\n",
    "\n",
    "def f(x):\n",
    "    return (x-1)*(np.log(x))\n",
    "def fp(x):\n",
    "    return (1 + np.log(x) - 1/x)\n",
    "acc_newton_raphson(f, fp, 2, 2)"
   ]
  },
  {
   "cell_type": "code",
   "execution_count": null,
   "id": "ade73f81",
   "metadata": {},
   "outputs": [],
   "source": []
  },
  {
   "cell_type": "code",
   "execution_count": null,
   "id": "361b3bea",
   "metadata": {},
   "outputs": [],
   "source": []
  },
  {
   "cell_type": "code",
   "execution_count": null,
   "id": "c386613d",
   "metadata": {},
   "outputs": [],
   "source": []
  },
  {
   "cell_type": "code",
   "execution_count": null,
   "id": "cdbe2863",
   "metadata": {},
   "outputs": [],
   "source": []
  }
 ],
 "metadata": {
  "kernelspec": {
   "display_name": "Python 3 (ipykernel)",
   "language": "python",
   "name": "python3"
  },
  "language_info": {
   "codemirror_mode": {
    "name": "ipython",
    "version": 3
   },
   "file_extension": ".py",
   "mimetype": "text/x-python",
   "name": "python",
   "nbconvert_exporter": "python",
   "pygments_lexer": "ipython3",
   "version": "3.10.12"
  }
 },
 "nbformat": 4,
 "nbformat_minor": 5
}
