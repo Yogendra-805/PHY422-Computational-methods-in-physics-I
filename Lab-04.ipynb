{
 "cells": [
  {
   "cell_type": "code",
   "execution_count": 1,
   "id": "4e399966",
   "metadata": {},
   "outputs": [],
   "source": [
    "import numpy as np\n"
   ]
  },
  {
   "cell_type": "markdown",
   "id": "8c3edddc",
   "metadata": {},
   "source": [
    "## 1. The elementary transformations needed in Gaussian elimination are:\n",
    "1. Row Swapping\n",
    "2. Row Scaling\n",
    "3. Row Addition\n"
   ]
  },
  {
   "cell_type": "code",
   "execution_count": 2,
   "id": "704e0162",
   "metadata": {},
   "outputs": [],
   "source": [
    "M = [[1,2,3], \\\n",
    "     [4,5,6], \\\n",
    "     [7,8,9]]\n",
    "M = np.array(M)"
   ]
  },
  {
   "cell_type": "code",
   "execution_count": null,
   "id": "3e0efa76",
   "metadata": {},
   "outputs": [],
   "source": []
  },
  {
   "cell_type": "code",
   "execution_count": 3,
   "id": "69b2f820",
   "metadata": {},
   "outputs": [],
   "source": [
    "def row_swap(M, i, j):\n",
    "    mat = M.copy()\n",
    "    mat[i] = M[j]\n",
    "    mat[j] = M[i]\n",
    "    return mat"
   ]
  },
  {
   "cell_type": "code",
   "execution_count": 4,
   "id": "d32609da",
   "metadata": {},
   "outputs": [
    {
     "data": {
      "text/plain": [
       "array([[4, 5, 6],\n",
       "       [1, 2, 3],\n",
       "       [7, 8, 9]])"
      ]
     },
     "execution_count": 4,
     "metadata": {},
     "output_type": "execute_result"
    }
   ],
   "source": [
    "row_swap(M, 0,1)"
   ]
  },
  {
   "cell_type": "code",
   "execution_count": null,
   "id": "68b116d9",
   "metadata": {},
   "outputs": [],
   "source": []
  },
  {
   "cell_type": "code",
   "execution_count": 5,
   "id": "1b98052a",
   "metadata": {},
   "outputs": [],
   "source": [
    "def row_scale(M, row, scaler):\n",
    "    M[row] = M[row]*scaler\n",
    "    return M"
   ]
  },
  {
   "cell_type": "code",
   "execution_count": 7,
   "id": "0e2e83d7",
   "metadata": {},
   "outputs": [
    {
     "data": {
      "text/plain": [
       "array([[ 1,  2,  3],\n",
       "       [20, 25, 30],\n",
       "       [ 7,  8,  9]])"
      ]
     },
     "execution_count": 7,
     "metadata": {},
     "output_type": "execute_result"
    }
   ],
   "source": [
    "row_scale(M, 1, 5)"
   ]
  },
  {
   "cell_type": "code",
   "execution_count": null,
   "id": "c91ebe7d",
   "metadata": {},
   "outputs": [],
   "source": []
  },
  {
   "cell_type": "code",
   "execution_count": 8,
   "id": "3e1278fd",
   "metadata": {},
   "outputs": [],
   "source": [
    "def row_add(M, i, j, scaler = 1):\n",
    "    mat = M.copy()\n",
    "    mat[i] = mat[i]*scaler + mat[j]\n",
    "    return mat"
   ]
  },
  {
   "cell_type": "code",
   "execution_count": 10,
   "id": "4249bbd9",
   "metadata": {},
   "outputs": [
    {
     "data": {
      "text/plain": [
       "array([[ 1,  2,  3],\n",
       "       [27, 33, 39],\n",
       "       [ 7,  8,  9]])"
      ]
     },
     "execution_count": 10,
     "metadata": {},
     "output_type": "execute_result"
    }
   ],
   "source": [
    "row_add(M, 1,2, 1)"
   ]
  },
  {
   "cell_type": "code",
   "execution_count": null,
   "id": "12962673",
   "metadata": {},
   "outputs": [],
   "source": []
  },
  {
   "cell_type": "markdown",
   "id": "0aef2f2e",
   "metadata": {},
   "source": [
    "# Q2.Using the above elementary transformations we can reduce rows to upper triangular\n",
    "system and then back substitution can be used. Therefore, we have the following two\n",
    "more tasks:\n",
    "\n",
    "1. Row Reduction\n",
    "2. Back Substitution.\n",
    "3. Forward Substitution"
   ]
  },
  {
   "cell_type": "code",
   "execution_count": 20,
   "id": "356eaa27",
   "metadata": {},
   "outputs": [],
   "source": [
    "def row_reduction(matrix):\n",
    "    \"\"\"\n",
    "    Perform row reduction (Gaussian elimination) on the given matrix.\n",
    "\n",
    "    Parameters:\n",
    "    - matrix: 2D NumPy array representing the matrix\n",
    "    \"\"\"\n",
    "    rows, cols = matrix.shape\n",
    "    for pivot_row in range(min(rows, cols)):\n",
    "        # Ensure the pivot element is nonzero\n",
    "        if matrix[pivot_row, pivot_row] == 0:\n",
    "            non_zero_row = np.argmax(matrix[pivot_row:, pivot_row]) + pivot_row\n",
    "            row_swap(matrix, pivot_row, non_zero_row)\n",
    "\n",
    "        # Make the pivot element 1\n",
    "        pivot_value = matrix[pivot_row, pivot_row]\n",
    "        row_scale(matrix, pivot_row, 1 / pivot_value)\n",
    "\n",
    "        # Eliminate nonzero values below the pivot\n",
    "        for i in range(pivot_row + 1, rows):\n",
    "            multiplier = matrix[i, pivot_row]\n",
    "            row_add(matrix, pivot_row, i, -multiplier)\n",
    "\n",
    "def forward_substitution(matrix, b):\n",
    "    \"\"\"\n",
    "    Perform forward substitution to solve for variables in a lower triangular system.\n",
    "\n",
    "    Parameters:\n",
    "    - matrix: Lower triangular matrix (2D NumPy array)\n",
    "    - b: 1D NumPy array representing the right-hand side of the system\n",
    "    \"\"\"\n",
    "    n = len(b)\n",
    "    x = np.zeros(n)\n",
    "    for i in range(n):\n",
    "        x[i] = b[i] - np.dot(matrix[i, :i], x[:i])\n",
    "    return x\n",
    "\n",
    "def back_substitution(matrix, b):\n",
    "    \"\"\"\n",
    "    Perform back substitution to solve for variables in an upper triangular system.\n",
    "\n",
    "    Parameters:\n",
    "    - matrix: Upper triangular matrix (2D NumPy array)\n",
    "    - b: 1D NumPy array representing the right-hand side of the system\n",
    "    \"\"\"\n",
    "    n = len(b)\n",
    "    x = np.zeros(n)\n",
    "    for i in range(n - 1, -1, -1):\n",
    "        x[i] = (b[i] - np.dot(matrix[i, i + 1:], x[i + 1:])) / matrix[i, i]\n",
    "    return x\n"
   ]
  },
  {
   "cell_type": "code",
   "execution_count": 21,
   "id": "bd97b3b5",
   "metadata": {},
   "outputs": [],
   "source": []
  },
  {
   "cell_type": "code",
   "execution_count": 22,
   "id": "663fd20c",
   "metadata": {},
   "outputs": [],
   "source": []
  },
  {
   "cell_type": "code",
   "execution_count": null,
   "id": "c22bd0cf",
   "metadata": {},
   "outputs": [],
   "source": []
  },
  {
   "cell_type": "markdown",
   "id": "e6e25fae",
   "metadata": {},
   "source": [
    "## 3.  Finally write the code for the main function\n",
    "(a) Solve Linear System,and check it for various linear systems."
   ]
  },
  {
   "cell_type": "code",
   "execution_count": 26,
   "id": "2bf7eb8c",
   "metadata": {},
   "outputs": [],
   "source": [
    "def solve_linear_system(A, b):\n",
    "    \"\"\"\n",
    "    Solve a linear system Ax = b using Gaussian elimination.\n",
    "\n",
    "    Parameters:\n",
    "    - A: Coefficient matrix (2D NumPy array)\n",
    "    - b: Right-hand side vector (1D NumPy array)\n",
    "\n",
    "    Returns:\n",
    "    - x: Solution vector\n",
    "    \"\"\"\n",
    "    # Combine A and b into an augmented matrix\n",
    "    augmented_matrix = np.column_stack((A, b))\n",
    "\n",
    "    # Apply row reduction\n",
    "    row_reduction(augmented_matrix)\n",
    "\n",
    "    # Separate the augmented matrix back into A and b\n",
    "    A_reduced = augmented_matrix[:, :-1]\n",
    "    b_reduced = augmented_matrix[:, -1]\n",
    "\n",
    "    # Solve the system using back substitution\n",
    "    y = forward_substitution(A_reduced, b_reduced)\n",
    "    x = back_substitution(A_reduced, y)\n",
    "\n",
    "    return x"
   ]
  },
  {
   "cell_type": "code",
   "execution_count": 27,
   "id": "d9f8be2e",
   "metadata": {},
   "outputs": [
    {
     "name": "stdout",
     "output_type": "stream",
     "text": [
      "Solution 1:\n",
      "[ 27. -12.  -5.   0.]\n",
      "\n",
      "Solution 2:\n",
      "[ 5. -1.  0.  2.]\n"
     ]
    }
   ],
   "source": [
    "# Example usage\n",
    "A1 = np.array([[2, 5, 0, -4, 6],\n",
    "              [-4, -4, -3, 7, 36],\n",
    "              [-6, -3, -7, -6, 35],\n",
    "              [-1, 2, -6, 63, 1]])\n",
    "\n",
    "b1 = A1[:, -1]  # Right-hand side vector for the first system\n",
    "\n",
    "solution1 = solve_linear_system(A1[:, :-1], b1)\n",
    "print(\"Solution 1:\")\n",
    "print(solution1)\n",
    "\n",
    "# Example 2\n",
    "A2 = np.array([[4, -1, 2, 3],\n",
    "               [0, -2, 7, -4],\n",
    "               [0, 0, 6, 5],\n",
    "               [0, 0, 0, 3]])\n",
    "\n",
    "b2 = np.array([20, -7, 4, 6])\n",
    "\n",
    "solution2 = solve_linear_system(A2, b2)\n",
    "print(\"\\nSolution 2:\")\n",
    "print(solution2)\n"
   ]
  },
  {
   "cell_type": "code",
   "execution_count": null,
   "id": "7d7569b5",
   "metadata": {},
   "outputs": [],
   "source": []
  },
  {
   "cell_type": "markdown",
   "id": "db98eea2",
   "metadata": {},
   "source": [
    "## 4. Obtain the solution for the following system of equations using the code written by you.\n",
    "\n",
    "$\\begin{aligned} 2 x_1+5 x_2+0 x_3-4 x_4= & 6 \\\\ -4 x_1-4 x_2-3 x_3+7 x_4= & 36 \\\\ -6 x_1-3 x_2-7 x_3-6 x_4= & 35 \\\\ -x_1+2 x_2-6 x_3+5 x_4= & 63\\end{aligned}$"
   ]
  },
  {
   "cell_type": "code",
   "execution_count": 36,
   "id": "2ab3f688",
   "metadata": {},
   "outputs": [
    {
     "data": {
      "text/plain": [
       "array([[ 2,  5,  0, -4,  6],\n",
       "       [-4, -4, -3,  7, 36],\n",
       "       [-6, -3, -7, -6, 35],\n",
       "       [-1,  2, -6,  5, 63]])"
      ]
     },
     "execution_count": 36,
     "metadata": {},
     "output_type": "execute_result"
    }
   ],
   "source": [
    "A = np.array([[2, 5, 0, -4, 6],\n",
    "              [-4, -4, -3, 7, 36],\n",
    "              [-6, -3, -7, -6, 35],\n",
    "              [-1, 2, -6, 5, 63]])\n",
    "A"
   ]
  },
  {
   "cell_type": "code",
   "execution_count": 41,
   "id": "4e99b06f",
   "metadata": {},
   "outputs": [
    {
     "name": "stdout",
     "output_type": "stream",
     "text": [
      "Solution:\n",
      "[27. -5. -5.  7.]\n"
     ]
    }
   ],
   "source": [
    "b = A[:,-1]\n",
    "A = A[:,:-1]\n",
    "# Solve the system\n",
    "solution = solve_linear_system(A, b)\n",
    "\n",
    "print(\"Solution:\")\n",
    "print(solution)\n"
   ]
  },
  {
   "cell_type": "code",
   "execution_count": null,
   "id": "fcea8d26",
   "metadata": {},
   "outputs": [],
   "source": []
  },
  {
   "cell_type": "code",
   "execution_count": null,
   "id": "4f67f9f4",
   "metadata": {},
   "outputs": [],
   "source": []
  }
 ],
 "metadata": {
  "kernelspec": {
   "display_name": "Python 3 (ipykernel)",
   "language": "python",
   "name": "python3"
  },
  "language_info": {
   "codemirror_mode": {
    "name": "ipython",
    "version": 3
   },
   "file_extension": ".py",
   "mimetype": "text/x-python",
   "name": "python",
   "nbconvert_exporter": "python",
   "pygments_lexer": "ipython3",
   "version": "3.10.12"
  }
 },
 "nbformat": 4,
 "nbformat_minor": 5
}
