{
 "cells": [
  {
   "cell_type": "markdown",
   "id": "611edc9f",
   "metadata": {},
   "source": [
    "## 1. (Differentiation using limits) - \n",
    "Central-difference formula of order $O(h^2 )$. To approximate f′(x) numerically by generating the sequence\n",
    "$$\n",
    "f^{\\prime}(x) \\approx D_k=\\frac{f\\left(x+10^{-k} h\\right)-f\\left(x-10^{-k} h\\right)}{2\\left(10^{-k} h\\right)} \\quad \\text { for } k=0, \\ldots, n\n",
    "$$\n",
    "until $\\left|D_{n+1}-D_n\\right| \\geq\\left|D_n-D_{n-1}\\right|$ or $\\left|D_n-D_{n-1}\\right|<$ tolerance, which is an attempt to find the best approximation $f^{\\prime}(x) \\approx D_n$.\n",
    "\n"
   ]
  },
  {
   "cell_type": "code",
   "execution_count": 5,
   "id": "9b95c015",
   "metadata": {},
   "outputs": [],
   "source": [
    "import numpy as np\n",
    "import matplotlib.pyplot as plt"
   ]
  },
  {
   "cell_type": "code",
   "execution_count": 10,
   "id": "5fb381a6",
   "metadata": {},
   "outputs": [],
   "source": [
    "def central_difference_2nd_order(f, x, h, n=100, tolerance=1e-6):\n",
    "    D_prev = 0.0\n",
    "    for k in range(n+1):\n",
    "        h_k = 10**(-k) * h\n",
    "        D_k = (f(x + h_k) - f(x - h_k)) / (2 * h_k)\n",
    "\n",
    "        if k > 0 and abs(D_k - D_prev) >= abs(D_prev - D_prev_prev):\n",
    "            break\n",
    "        \n",
    "        D_prev_prev = D_prev\n",
    "        D_prev = D_k\n",
    "\n",
    "        if k > 1 and abs(D_prev - D_prev_prev) < tolerance:\n",
    "            break\n",
    "\n",
    "    return D_k"
   ]
  },
  {
   "cell_type": "code",
   "execution_count": 11,
   "id": "b0416b39",
   "metadata": {},
   "outputs": [
    {
     "name": "stdout",
     "output_type": "stream",
     "text": [
      "Approximation of f'(2.0) using central difference formula: 3.9999999999995595\n"
     ]
    }
   ],
   "source": [
    "# Example usage:\n",
    "# Define the function you want to find the derivative of\n",
    "def example_function(x):\n",
    "    return x**2\n",
    "\n",
    "# Choose a point x, step size h, maximum iterations n, and tolerance\n",
    "x_val = 2.0\n",
    "step_size = 0.1\n",
    "max_iterations = 10\n",
    "tolerance_val = 1e-6\n",
    "\n",
    "# Calculate the derivative using the central difference formula\n",
    "result = central_difference_2nd_order(example_function, x_val, step_size, max_iterations, tolerance_val)\n",
    "\n",
    "# Print the result\n",
    "print(f\"Approximation of f'({x_val}) using central difference formula: {result}\")\n"
   ]
  },
  {
   "cell_type": "markdown",
   "id": "6328f1a8",
   "metadata": {},
   "source": [
    "## 2. Central-difference formula of order O(h4 ).\n",
    "f′(x) can be approximated numerically using the formula:\n",
    "\n",
    "$$f^{\\prime}(x)=\\frac{-f(x+2 h)+8 f(x+h)-8 f(x-h)+f(x-2 h)}{12 h}$$"
   ]
  },
  {
   "cell_type": "code",
   "execution_count": 3,
   "id": "f4da0579",
   "metadata": {},
   "outputs": [],
   "source": [
    "def central_difference_4th_order(f, x, h):\n",
    "    return (-f(x + 2*h) + 8*f(x + h) - 8*f(x - h) + f(x - 2*h)) / (12 * h)"
   ]
  },
  {
   "cell_type": "code",
   "execution_count": 4,
   "id": "bdb7da13",
   "metadata": {},
   "outputs": [
    {
     "name": "stdout",
     "output_type": "stream",
     "text": [
      "Approximation of f'(2.0) using central difference formula (order O(h^4)): 4.000000000000002\n"
     ]
    }
   ],
   "source": [
    "# Example usage:\n",
    "# Define the function you want to find the derivative of\n",
    "def example_function(x):\n",
    "    return x**2\n",
    "\n",
    "# Choose a point x and step size h\n",
    "x_val = 2.0\n",
    "step_size = 0.1\n",
    "\n",
    "# Calculate the derivative using the central difference formula of order O(h^4)\n",
    "result = central_difference_4th_order(example_function, x_val, step_size)\n",
    "\n",
    "# Print the result\n",
    "print(f\"Approximation of f'({x_val}) using central difference formula (order O(h^4)): {result}\")\n"
   ]
  },
  {
   "cell_type": "markdown",
   "id": "f42c14a0",
   "metadata": {},
   "source": [
    "## 3. Let f (x) = cos(x).\n",
    "1. Use central difference formulas of orders $O(h^2)$ and $O(h^4)$ with step sizes h = 0.1, 0.01, 0.001, and 0.0001, and calculate approximations for f'(0.8). Carry nine decimal places in all the calculations.\n",
    "2. Compare with the true value f′(0.8) = − sin(0.8).\n",
    "3. Plot the error as a function of step size h and identify the optimal step size for both the cases."
   ]
  },
  {
   "cell_type": "code",
   "execution_count": 12,
   "id": "4f7c25b6",
   "metadata": {},
   "outputs": [
    {
     "data": {
      "image/png": "[encoded data removed]",
      "text/plain": [
       "<Figure size 720x432 with 1 Axes>"
      ]
     },
     "metadata": {
      "needs_background": "light"
     },
     "output_type": "display_data"
    }
   ],
   "source": [
    "# True derivative value at x=0.8\n",
    "true_derivative_value = -np.sin(0.8)\n",
    "\n",
    "# Step sizes to consider\n",
    "step_sizes = [0.1, 0.01, 0.001, 0.0001]\n",
    "\n",
    "# Lists to store errors for O(h^2) and O(h^4) respectively\n",
    "errors_2nd_order = []\n",
    "errors_4th_order = []\n",
    "\n",
    "# Calculate errors for each step size\n",
    "for h in step_sizes:\n",
    "    # Calculate approximations using central difference formulas\n",
    "    approx_2nd_order = central_difference_2nd_order(np.cos, 0.8, h)\n",
    "    approx_4th_order = central_difference_4th_order(np.cos, 0.8, h)\n",
    "\n",
    "    # Calculate errors\n",
    "    error_2nd_order = abs(approx_2nd_order - true_derivative_value)\n",
    "    error_4th_order = abs(approx_4th_order - true_derivative_value)\n",
    "\n",
    "    # Append errors to the lists\n",
    "    errors_2nd_order.append(error_2nd_order)\n",
    "    errors_4th_order.append(error_4th_order)\n",
    "\n",
    "# Plot the errors\n",
    "plt.figure(figsize=(10, 6))\n",
    "plt.loglog(step_sizes, errors_2nd_order, marker='o', label='O(h^2) Error')\n",
    "plt.loglog(step_sizes, errors_4th_order, marker='o', label='O(h^4) Error')\n",
    "plt.xlabel('Step Size (h)')\n",
    "plt.ylabel('Error')\n",
    "plt.title('Error Analysis of Central Difference Formulas')\n",
    "plt.legend()\n",
    "plt.show()"
   ]
  },
  {
   "cell_type": "markdown",
   "id": "54627203",
   "metadata": {},
   "source": [
    "## 4. (Differentiation using extrapolation).\n",
    "To approximate f′(x) numerically by generating a table of approximations D(j, k) for k ≤ j, and using f′(x) ≈ D(n, n) as the final answer. The approximations D(j, k) are stored in a lower-triangular matrix. The first column is\n",
    "\n",
    "$$\n",
    "D(j, 0)=\\frac{f\\left(x+2^{-j} h\\right)-f\\left(x-2^{-j} h\\right)}{2^{-j+1} h}\n",
    "$$\n",
    "and the elements in row $j$ are\n",
    "$$\n",
    "D(j, k)=D(j, k-1)+\\frac{D(j, k-1)-D(j-1, k-1)}{4^k-1} \\quad \\text { for } 1 \\leq k \\leq j\n",
    "$$"
   ]
  },
  {
   "cell_type": "code",
   "execution_count": 14,
   "id": "a0e80c35",
   "metadata": {},
   "outputs": [],
   "source": [
    "import numpy as np\n",
    "\n",
    "# Function to generate the Richardson extrapolation table\n",
    "def richardson_extrapolation(f, x, h, n):\n",
    "    # Initialize the table with zeros\n",
    "    table = np.zeros((n+1, n+1))\n",
    "\n",
    "    # Calculate the first column using the central difference formula\n",
    "    for j in range(n+1):\n",
    "        table[j, 0] = (f(x + 2**(-j) * h) - f(x - 2**(-j) * h)) / (2**(-j + 1) * h)\n",
    "\n",
    "    # Calculate the remaining columns using the Richardson extrapolation formula\n",
    "    for k in range(1, n+1):\n",
    "        for j in range(k, n+1):\n",
    "            table[j, k] = table[j, k-1] + (table[j, k-1] - table[j-1, k-1]) / (4**k - 1)\n",
    "\n",
    "    # Return the final approximation\n",
    "    return table[n, n]"
   ]
  },
  {
   "cell_type": "code",
   "execution_count": 15,
   "id": "d449c263",
   "metadata": {},
   "outputs": [
    {
     "name": "stdout",
     "output_type": "stream",
     "text": [
      "Approximation of f'(0.8) using Richardson extrapolation: -0.717356090899541\n"
     ]
    }
   ],
   "source": [
    "# Example usage:\n",
    "# Define the function you want to find the derivative of\n",
    "def example_function(x):\n",
    "    return np.cos(x)\n",
    "\n",
    "# Choose a point x, step size h, and the number of iterations n\n",
    "x_val = 0.8\n",
    "step_size = 0.1\n",
    "iterations = 5\n",
    "\n",
    "# Calculate the derivative using Richardson extrapolation\n",
    "result = richardson_extrapolation(example_function, x_val, step_size, iterations)\n",
    "\n",
    "# Print the result\n",
    "print(f\"Approximation of f'({x_val}) using Richardson extrapolation: {result}\")\n"
   ]
  },
  {
   "cell_type": "markdown",
   "id": "9a45dbb0",
   "metadata": {},
   "source": [
    "## 5. (Differentiation Based on N + 1 Nodes). \n",
    "To approximate f′(x) numerically by constructing the Nth-degree Newton polynomial\n",
    "$$\n",
    "\\begin{aligned}\n",
    "P(x)= & a_0+a_1\\left(x-x_0\\right)+a_2\\left(x-x_0\\right)\\left(x-x_1\\right) \\\\\n",
    "& +a_3\\left(x-x_0\\right)\\left(x-x_1\\right)\\left(x-x_2\\right)+\\cdots+a_N\\left(x-x_0\\right) \\cdots\\left(x-x_{N-1}\\right)\n",
    "\\end{aligned}\n",
    "$$\n",
    "and using $f^{\\prime}\\left(x_0\\right) \\approx P^{\\prime}\\left(x_0\\right)$ as the final answer. The method must be used at $x_0$. The points can be rearranged $\\left\\{x_k, x_0, \\ldots, x_{k-1}, x_{k+1}, \\ldots, x_N\\right\\}$ to compute $f^{\\prime}\\left(x_k\\right) \\approx P^{\\prime}\\left(x_k\\right)$."
   ]
  },
  {
   "cell_type": "code",
   "execution_count": 16,
   "id": "86b0afae",
   "metadata": {},
   "outputs": [],
   "source": [
    "import numpy as np\n",
    "\n",
    "# Function to construct the Nth-degree Newton polynomial coefficients\n",
    "def newton_polynomial_coefficients(x_values, y_values):\n",
    "    n = len(x_values) - 1\n",
    "    coefficients = y_values.copy()\n",
    "\n",
    "    for j in range(1, n+1):\n",
    "        for i in range(n, j-1, -1):\n",
    "            coefficients[i] = (coefficients[i] - coefficients[i-1]) / (x_values[i] - x_values[i-j])\n",
    "\n",
    "    return coefficients\n"
   ]
  },
  {
   "cell_type": "code",
   "execution_count": 17,
   "id": "a2752ee0",
   "metadata": {},
   "outputs": [],
   "source": [
    "# Function to evaluate the derivative of the Newton polynomial at a specific node\n",
    "def evaluate_newton_polynomial_derivative(coefficients, x_values, x_node):\n",
    "    n = len(coefficients) - 1\n",
    "    result = coefficients[n]\n",
    "\n",
    "    for i in range(n-1, -1, -1):\n",
    "        result = result * (x_node - x_values[i]) + coefficients[i]\n",
    "\n",
    "    return result"
   ]
  },
  {
   "cell_type": "code",
   "execution_count": 18,
   "id": "71278c6c",
   "metadata": {},
   "outputs": [
    {
     "name": "stdout",
     "output_type": "stream",
     "text": [
      "Approximation of f'(0.8) using Newton polynomial: 0.6816844808591922\n"
     ]
    }
   ],
   "source": [
    "# Example usage:\n",
    "# Define the function you want to find the derivative of\n",
    "def example_function(x):\n",
    "    return np.cos(x)\n",
    "\n",
    "# Choose the number of nodes and the point at which to evaluate the derivative\n",
    "N = 3  # Nth-degree polynomial, so use 3 nodes\n",
    "x_node = 0.8\n",
    "\n",
    "# Generate N + 1 nodes around the chosen point\n",
    "x_values = np.linspace(x_node - N/2, x_node + N/2, N+1)\n",
    "y_values = example_function(x_values)\n",
    "\n",
    "# Construct the Newton polynomial coefficients\n",
    "coefficients = newton_polynomial_coefficients(x_values, y_values)\n",
    "\n",
    "# Evaluate the derivative of the Newton polynomial at the chosen node\n",
    "result = evaluate_newton_polynomial_derivative(coefficients, x_values, x_node)\n",
    "\n",
    "# Print the result\n",
    "print(f\"Approximation of f'({x_node}) using Newton polynomial: {result}\")\n"
   ]
  },
  {
   "cell_type": "code",
   "execution_count": null,
   "id": "9b8db2c2",
   "metadata": {},
   "outputs": [],
   "source": []
  }
 ],
 "metadata": {
  "kernelspec": {
   "display_name": "Python 3 (ipykernel)",
   "language": "python",
   "name": "python3"
  },
  "language_info": {
   "codemirror_mode": {
    "name": "ipython",
    "version": 3
   },
   "file_extension": ".py",
   "mimetype": "text/x-python",
   "name": "python",
   "nbconvert_exporter": "python",
   "pygments_lexer": "ipython3",
   "version": "3.10.12"
  }
 },
 "nbformat": 4,
 "nbformat_minor": 5
}
