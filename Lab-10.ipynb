{
 "cells": [
  {
   "cell_type": "markdown",
   "id": "3eda969e",
   "metadata": {},
   "source": [
    "## 1. (Composite Trapezoidal Rule)\n",
    "To approximate the integral \n",
    "$$\n",
    "\\int_a^b f(x) d x \\approx \\frac{h}{2}(f(a)+f(b))+h \\sum_{k=1}^{M-1} f\\left(x_k\\right)\n",
    "$$\n",
    "by sampling $f(x)$ at the $M+1$ equally spaced points $x_k=a+k h$, for $k=0,1,2, \\ldots, M$. Notice that $x_0=a$ and $x_M=b$."
   ]
  },
  {
   "cell_type": "code",
   "execution_count": 7,
   "id": "67c4e70f",
   "metadata": {},
   "outputs": [],
   "source": [
    "import numpy as np\n",
    "import matplotlib.pyplot as plt"
   ]
  },
  {
   "cell_type": "code",
   "execution_count": 1,
   "id": "996e8ca1",
   "metadata": {},
   "outputs": [],
   "source": [
    "def composite_trapezoidal_rule(f, a, b, M):\n",
    "    h = (b - a) / M\n",
    "    result = (f(a) + f(b)) / 2.0\n",
    "    \n",
    "    for k in range(1, M):\n",
    "        x_k = a + k * h\n",
    "        result += f(x_k)\n",
    "    \n",
    "    result *= h\n",
    "    return result"
   ]
  },
  {
   "cell_type": "code",
   "execution_count": 2,
   "id": "5eaa187f",
   "metadata": {},
   "outputs": [
    {
     "name": "stdout",
     "output_type": "stream",
     "text": [
      "Approximation of the integral: 0.33335000000000004\n"
     ]
    }
   ],
   "source": [
    "# Example usage:\n",
    "# Define the function you want to integrate\n",
    "def example_function(x):\n",
    "    return x**2\n",
    "\n",
    "# Define the interval [a, b] and the number of subintervals M\n",
    "a = 0\n",
    "b = 1\n",
    "M = 100\n",
    "\n",
    "# Apply the composite trapezoidal rule\n",
    "approximation = composite_trapezoidal_rule(example_function, a, b, M)\n",
    "\n",
    "# Print the result\n",
    "print(f\"Approximation of the integral: {approximation}\")\n"
   ]
  },
  {
   "cell_type": "markdown",
   "id": "e2b7efa0",
   "metadata": {},
   "source": [
    "## 2. (Composite Simpson Rule). \n",
    "To approximate the integral \n",
    "$$\n",
    "\\int_a^b f(x) d x \\approx \\frac{h}{3}(f(a)+f(b))+\\frac{2 h}{3} \\sum_{k=1}^{M-1} f\\left(x_{2 k}\\right)+\\frac{4 h}{3} \\sum_{k=1}^M f\\left(x_{2 k-1}\\right)\n",
    "$$\n",
    "by sampling $f(x)$ at the $2 M+1$ equally spaced points $x_k=a+k h$, for $k=0,1,2, \\ldots, 2 M$. Notice that $x_0=a$ and $x_{2 M}=b$."
   ]
  },
  {
   "cell_type": "code",
   "execution_count": 3,
   "id": "0a15ab3e",
   "metadata": {},
   "outputs": [],
   "source": [
    "def composite_simpsons_rule(f, a, b, M):\n",
    "    h = (b - a) / (2 * M)\n",
    "    result = (f(a) + f(b)) / 3.0\n",
    "\n",
    "    for k in range(1, M + 1):\n",
    "        x_2k_1 = a + (2 * k - 1) * h\n",
    "        x_2k = a + 2 * k * h\n",
    "\n",
    "        result += 4 * f(x_2k_1) / 3.0\n",
    "        result += 2 * f(x_2k) / 3.0\n",
    "\n",
    "    result *= h\n",
    "    return result"
   ]
  },
  {
   "cell_type": "code",
   "execution_count": 4,
   "id": "2d359e84",
   "metadata": {},
   "outputs": [
    {
     "name": "stdout",
     "output_type": "stream",
     "text": [
      "Approximation of the integral: 0.3400000000000001\n"
     ]
    }
   ],
   "source": [
    "# Example usage:\n",
    "# Define the function you want to integrate\n",
    "def example_function(x):\n",
    "    return x**2\n",
    "\n",
    "# Define the interval [a, b] and the number of subintervals M\n",
    "a = 0\n",
    "b = 1\n",
    "M = 50\n",
    "\n",
    "# Apply the composite Simpson's rule\n",
    "approximation = composite_simpsons_rule(example_function, a, b, M)\n",
    "\n",
    "# Print the result\n",
    "print(f\"Approximation of the integral: {approximation}\")\n"
   ]
  },
  {
   "cell_type": "markdown",
   "id": "4e279c23",
   "metadata": {},
   "source": [
    "## 3. Consider $$f(x) = 2 + sin(2 \\sqrt{x}).$$\n",
    "1. Use the composite trapezoidal rule with 11 sample points to compute an approximation to the integral of f (x) taken over [1, 6].\n",
    "2. Use the composite Simpson rule with 11 sample points to compute an approximation to the integral of f (x) taken over [1, 6].\n",
    "\n",
    "\n",
    "Compare with the exact result: I = 8.1834792077."
   ]
  },
  {
   "cell_type": "code",
   "execution_count": 5,
   "id": "04c2a9ad",
   "metadata": {},
   "outputs": [],
   "source": [
    "def f(x):\n",
    "    return 2 + np.sin(2 * np.sqrt(x))\n"
   ]
  },
  {
   "cell_type": "code",
   "execution_count": 8,
   "id": "9c964a28",
   "metadata": {},
   "outputs": [
    {
     "name": "stdout",
     "output_type": "stream",
     "text": [
      "Approximation using Composite Trapezoidal Rule: 8.193854565172531\n",
      "Approximation using Composite Simpson's Rule: 8.353007090041425\n",
      "Exact Result: 8.1834792077\n",
      "Error with Composite Trapezoidal Rule: 0.010375357472531377\n",
      "Error with Composite Simpson's Rule: 0.16952788234142524\n"
     ]
    }
   ],
   "source": [
    "# Exact result for comparison\n",
    "exact_result = 8.1834792077\n",
    "\n",
    "# Define the interval [a, b] and the number of subintervals M\n",
    "a = 1\n",
    "b = 6\n",
    "M = 10  # 11 sample points\n",
    "\n",
    "# Apply the composite trapezoidal rule\n",
    "trapezoidal_result = composite_trapezoidal_rule(f, a, b, M)\n",
    "\n",
    "# Apply the composite Simpson's rule\n",
    "simpsons_result = composite_simpsons_rule(f, a, b, M)\n",
    "\n",
    "# Print the results\n",
    "print(f\"Approximation using Composite Trapezoidal Rule: {trapezoidal_result}\")\n",
    "print(f\"Approximation using Composite Simpson's Rule: {simpsons_result}\")\n",
    "print(f\"Exact Result: {exact_result}\")\n",
    "\n",
    "# Calculate and print the errors\n",
    "trapezoidal_error = abs(trapezoidal_result - exact_result)\n",
    "simpsons_error = abs(simpsons_result - exact_result)\n",
    "print(f\"Error with Composite Trapezoidal Rule: {trapezoidal_error}\")\n",
    "print(f\"Error with Composite Simpson's Rule: {simpsons_error}\")"
   ]
  },
  {
   "cell_type": "markdown",
   "id": "c4ef6e2a",
   "metadata": {},
   "source": [
    "## 4. (Gauss-Legendre Quadrature)\n",
    "To approximate the integral\n",
    "$$\n",
    "\\int_a^b f(x) d x \\approx \\frac{b-a}{2} \\sum_{k=1}^N w_{N, k} f\\left(t_{N, k}\\right)\n",
    "$$\n",
    "by sampling $f(x)$ at the $N$ unequally spaced points $\\left\\{t_{N, k}\\right\\}_{k=1}^N$. The changes of variable\n",
    "$$\n",
    "t=\\frac{a+b}{2}+\\frac{b-a}{2} x \\quad \\text { and } \\quad d t=\\frac{b-a}{2} d x\n",
    "$$\n",
    "are used. The abscissas $\\left\\{x_{N, k}\\right\\}_{k=1}^N$ and the corresponding weights $\\left\\{w_{N, k}\\right\\}_{k=1}^N$ must be obtained from a table of known values."
   ]
  },
  {
   "cell_type": "code",
   "execution_count": 11,
   "id": "d75da9ca",
   "metadata": {},
   "outputs": [],
   "source": [
    "def gauss_legendre_quadrature(f, a, b, N):\n",
    "    # Get the Gauss-Legendre nodes and weights for the interval [-1, 1]\n",
    "    x, w = np.polynomial.legendre.leggauss(N)\n",
    "\n",
    "    # Map the nodes and weights to the interval [a, b]\n",
    "    t = 0.5 * (a + b) + 0.5 * (b - a) * x\n",
    "    dt_dx = 0.5 * (b - a)\n",
    "\n",
    "    # Calculate the quadrature approximation\n",
    "    result = dt_dx * np.sum(w * f(t))\n",
    "\n",
    "    return result\n"
   ]
  },
  {
   "cell_type": "code",
   "execution_count": 12,
   "id": "748b03f7",
   "metadata": {},
   "outputs": [
    {
     "name": "stdout",
     "output_type": "stream",
     "text": [
      "Approximation of the integral: 71.66666666666666\n"
     ]
    }
   ],
   "source": [
    "# Example usage:\n",
    "# Define the function you want to integrate\n",
    "def example_function(x):\n",
    "    return x**2\n",
    "\n",
    "# Define the interval [a, b] and the number of nodes N\n",
    "a = 1\n",
    "b = 6\n",
    "N = 3\n",
    "\n",
    "# Apply Gauss-Legendre quadrature\n",
    "approximation = gauss_legendre_quadrature(example_function, a, b, N)\n",
    "\n",
    "# Print the result\n",
    "print(f\"Approximation of the integral: {approximation}\")\n"
   ]
  },
  {
   "cell_type": "markdown",
   "id": "31332b09",
   "metadata": {},
   "source": [
    "## 5. Use abscissa and weights \n",
    "from the table above to evaluate the following integrals:\n",
    "1. $\\frac{1}{\\sqrt{2 \\pi}} \\int_0^1 e^{-t^2 / 2} d t$\n",
    "2. $\\int_{-1}^1 e^x \\cos (x) d x$\n",
    "3. $\\int_{-1}^1 \\frac{1}{2+x} d x$"
   ]
  },
  {
   "cell_type": "code",
   "execution_count": 13,
   "id": "379f010b",
   "metadata": {},
   "outputs": [
    {
     "name": "stdout",
     "output_type": "stream",
     "text": [
      "Integral 1: 0.34134474764710515\n",
      "Integral 2: 1.933421505231958\n",
      "Integral 3: 1.0986092487250276\n"
     ]
    }
   ],
   "source": [
    "# Gauss-Legendre nodes and weights for N=5\n",
    "x_N5 = np.array([-0.90617985, -0.53846931, 0, 0.53846931, 0.90617985])\n",
    "w_N5 = np.array([0.23692689, 0.47862867, 0.56888889, 0.47862867, 0.23692689])\n",
    "\n",
    "# Function 1: 1/sqrt(2*pi) * exp(-t^2/2) from 0 to 1\n",
    "def f1(t):\n",
    "    return 1 / np.sqrt(2 * np.pi) * np.exp(-t**2 / 2)\n",
    "\n",
    "# Function 2: exp(x) * cos(x) from -1 to 1\n",
    "def f2(x):\n",
    "    return np.exp(x) * np.cos(x)\n",
    "\n",
    "# Function 3: 1 / (2 + x) from -1 to 1\n",
    "def f3(x):\n",
    "    return 1 / (2 + x)\n",
    "\n",
    "# Gauss-Legendre quadrature function\n",
    "def gauss_legendre_quadrature_custom(f, x_nodes, weights, a, b):\n",
    "    t_nodes = 0.5 * (a + b) + 0.5 * (b - a) * x_nodes\n",
    "    dt_dx = 0.5 * (b - a)\n",
    "    result = dt_dx * np.sum(weights * f(t_nodes))\n",
    "    return result\n",
    "\n",
    "# Evaluate the integrals\n",
    "integral1 = gauss_legendre_quadrature_custom(f1, x_N5, w_N5, 0, 1)\n",
    "integral2 = gauss_legendre_quadrature_custom(f2, x_N5, w_N5, -1, 1)\n",
    "integral3 = gauss_legendre_quadrature_custom(f3, x_N5, w_N5, -1, 1)\n",
    "\n",
    "# Print the results\n",
    "print(f\"Integral 1: {integral1}\")\n",
    "print(f\"Integral 2: {integral2}\")\n",
    "print(f\"Integral 3: {integral3}\")\n"
   ]
  },
  {
   "cell_type": "markdown",
   "id": "59d79444",
   "metadata": {},
   "source": [
    "## 6. Use Monte Carlo method to evaluate the value of PI.\n",
    "Use the equation of circle, $f(x)=\\sqrt{r^2-x^2}$, with $r=1$. The value of $\\pi$ is then given by\n",
    "$$\n",
    "\\pi=4 \\times \\int_0^1 f(x) d x\n",
    "$$\n",
    "1. pick $N$ uniformly generated random numbers $x_i$ 's in the interval $[0,1)$.\n",
    "2. Calculate average value of function, $\\bar{f}$ at these $x_i$ 's\n",
    "$$\n",
    "\\bar{f}=\\frac{1}{N} \\sum_{i=1}^N f\\left(x_i\\right)\n",
    "$$\n",
    "3. Also calculate $\\overline{f^2}=\\frac{1}{N} \\sum_{i=1}^N f^2\\left(x_i\\right)$, to calculate error.\n",
    "4. The value of $\\pi$ is $\\pi=4 \\times(1-0) \\times \\bar{f}$.\n",
    "5. The error is\n",
    "$$\n",
    "E=\\sqrt{\\frac{1}{(N-1)}\\left(\\overline{f^2}-\\bar{f}^2\\right)}\n",
    "$$\n",
    "\n",
    "Note that the error is inversely proportional to $\\sqrt{N}$. To decrease the error increase $N$."
   ]
  },
  {
   "cell_type": "code",
   "execution_count": 14,
   "id": "0c562747",
   "metadata": {},
   "outputs": [
    {
     "name": "stdout",
     "output_type": "stream",
     "text": [
      "Estimated value of π: 3.152847132011144\n",
      "Error: 0.0022091162825886215\n"
     ]
    }
   ],
   "source": [
    "def monte_carlo_pi(N):\n",
    "    # Step 1: Generate N uniformly distributed random numbers in the interval [0, 1)\n",
    "    x_values = np.random.rand(N)\n",
    "\n",
    "    # Step 2: Calculate the average value of the function f(x) = sqrt(1 - x^2)\n",
    "    f_values = np.sqrt(1 - x_values**2)\n",
    "    average_f = np.mean(f_values)\n",
    "\n",
    "    # Step 3: Calculate the average of f^2(x)\n",
    "    average_f_squared = np.mean(f_values**2)\n",
    "\n",
    "    # Step 4: Calculate the value of π\n",
    "    pi_estimate = 4 * average_f\n",
    "\n",
    "    # Step 5: Calculate the error\n",
    "    error = np.sqrt((average_f_squared - average_f**2) / (N - 1))\n",
    "\n",
    "    return pi_estimate, error\n",
    "\n",
    "# Set the number of random points (increase for better accuracy)\n",
    "N = 10000\n",
    "\n",
    "# Run the Monte Carlo simulation\n",
    "estimated_pi, error = monte_carlo_pi(N)\n",
    "\n",
    "# Print the results\n",
    "print(f\"Estimated value of π: {estimated_pi}\")\n",
    "print(f\"Error: {error}\")\n"
   ]
  },
  {
   "cell_type": "markdown",
   "id": "85953748",
   "metadata": {},
   "source": [
    "## 7. Let \n",
    "$f(x, y)=4-x^2-y^2$. \n",
    "Use the Monte Carlo method to calculate approximations to the double integral\n",
    "$$\n",
    "\\int_0^{5 / 4}\\left(\\int_0^{5 / 4} f(x, y) d y\\right) d x\n",
    "$$"
   ]
  },
  {
   "cell_type": "code",
   "execution_count": 15,
   "id": "151cfac8",
   "metadata": {},
   "outputs": [],
   "source": [
    "def f(x, y):\n",
    "    return 4 - x**2 - y**2"
   ]
  },
  {
   "cell_type": "code",
   "execution_count": 16,
   "id": "3e35a81b",
   "metadata": {},
   "outputs": [],
   "source": [
    "\n",
    "def monte_carlo_double_integral(N):\n",
    "    # Generate random points (x, y) in the given region\n",
    "    x_values = np.random.uniform(0, 5/4, N)\n",
    "    y_values = np.random.uniform(0, 5/4, N)\n",
    "\n",
    "    # Evaluate the function values at these points\n",
    "    f_values = f(x_values, y_values)\n",
    "\n",
    "    # Calculate the average value of the function\n",
    "    average_f = np.mean(f_values)\n",
    "\n",
    "    # Calculate the area of the region\n",
    "    area = 5/4 * 5/4\n",
    "\n",
    "    # Estimate the double integral\n",
    "    integral_estimate = area * average_f\n",
    "\n",
    "    return integral_estimate"
   ]
  },
  {
   "cell_type": "code",
   "execution_count": 17,
   "id": "077152cd",
   "metadata": {},
   "outputs": [
    {
     "name": "stdout",
     "output_type": "stream",
     "text": [
      "Estimated value of the double integral: 4.619740006507506\n"
     ]
    }
   ],
   "source": [
    "# Set the number of random points (increase for better accuracy)\n",
    "N = 10000\n",
    "\n",
    "# Run the Monte Carlo simulation\n",
    "integral_estimate = monte_carlo_double_integral(N)\n",
    "\n",
    "# Print the result\n",
    "print(f\"Estimated value of the double integral: {integral_estimate}\")\n"
   ]
  },
  {
   "cell_type": "code",
   "execution_count": null,
   "id": "a6fb9dc7",
   "metadata": {},
   "outputs": [],
   "source": []
  }
 ],
 "metadata": {
  "kernelspec": {
   "display_name": "Python 3 (ipykernel)",
   "language": "python",
   "name": "python3"
  },
  "language_info": {
   "codemirror_mode": {
    "name": "ipython",
    "version": 3
   },
   "file_extension": ".py",
   "mimetype": "text/x-python",
   "name": "python",
   "nbconvert_exporter": "python",
   "pygments_lexer": "ipython3",
   "version": "3.10.12"
  }
 },
 "nbformat": 4,
 "nbformat_minor": 5
}
