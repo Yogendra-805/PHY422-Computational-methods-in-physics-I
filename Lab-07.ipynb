{
 "cells": [
  {
   "cell_type": "markdown",
   "id": "c11f6af2",
   "metadata": {},
   "source": [
    "## 1. Write a program to construct and evaluate the Newton polynomial\n",
    "of degree ≤ N that\n",
    "passes through (xk , yk ) = (xk , f (xk )) for k = 0, 1, . . . , N $$\n",
    "\\begin{aligned}\n",
    "P(x)= & d_{0,0}+d_{1,1}\\left(x-x_0\\right)+d_{2,2}\\left(x-x_0\\right)\\left(x-x_1\\right) \\\\\n",
    "& +\\cdots d_{N, N}\\left(x-x_0\\right)\\left(x-x_1\\right) \\cdots\\left(x-x_{N-1}\\right)\n",
    "\\end{aligned}\n",
    "$$\n",
    "where\n",
    "$$\n",
    "d_{k, 0}=y_k \\quad \\text { and } \\quad d_{k, j}=\\frac{d_{k, j-1}-d_{k-1, j-1}}{x_k-x_{k-j}}\n",
    "$$"
   ]
  },
  {
   "cell_type": "code",
   "execution_count": 1,
   "id": "241cc51b",
   "metadata": {},
   "outputs": [],
   "source": [
    "import numpy as np\n",
    "import matplotlib.pyplot as plt"
   ]
  },
  {
   "cell_type": "code",
   "execution_count": 2,
   "id": "51cc050f",
   "metadata": {},
   "outputs": [],
   "source": [
    "def newton_polynomial(x_values, y_values, x):\n",
    "    \"\"\"\n",
    "    Construct and evaluate the Newton polynomial.\n",
    "\n",
    "    Parameters:\n",
    "    - x_values: List of x coordinates (x0, x1, ..., xn)\n",
    "    - y_values: List of corresponding y coordinates (y0, y1, ..., yn)\n",
    "    - x: The value at which to evaluate the polynomial\n",
    "\n",
    "    Returns:\n",
    "    - The value of the Newton polynomial at x\n",
    "    \"\"\"\n",
    "\n",
    "    n = len(x_values)  # Degree of the polynomial\n",
    "    d = [[0] * n for _ in range(n)]  # Initialize the divided difference table\n",
    "\n",
    "    # Initialize the divided differences using the given y values\n",
    "    for i in range(n):\n",
    "        d[i][0] = y_values[i]\n",
    "\n",
    "    # Populate the divided difference table\n",
    "    for j in range(1, n):\n",
    "        for i in range(n - j):\n",
    "            d[i][j] = (d[i + 1][j - 1] - d[i][j - 1]) / (x_values[i + j] - x_values[i])\n",
    "\n",
    "    # Construct the Newton polynomial\n",
    "    result = d[0][0]\n",
    "    term = 1\n",
    "\n",
    "    for j in range(1, n):\n",
    "        term *= (x - x_values[j - 1])\n",
    "        result += d[0][j] * term\n",
    "\n",
    "    return result\n"
   ]
  },
  {
   "cell_type": "code",
   "execution_count": 3,
   "id": "1db21fe3",
   "metadata": {},
   "outputs": [
    {
     "name": "stdout",
     "output_type": "stream",
     "text": [
      "P(2.5) = 3.75\n"
     ]
    }
   ],
   "source": [
    "# Example usage:\n",
    "x_values = [1, 2, 3, 4]  # Replace with your x values\n",
    "y_values = [2, 3, 5, 10]  # Replace with your corresponding y values\n",
    "x_to_evaluate = 2.5  # Replace with the x value where you want to evaluate the polynomial\n",
    "\n",
    "result = newton_polynomial(x_values, y_values, x_to_evaluate)\n",
    "print(f\"P({x_to_evaluate}) =\", result)\n"
   ]
  },
  {
   "cell_type": "markdown",
   "id": "39656a99",
   "metadata": {},
   "source": [
    "## 2. Consider \n",
    "y = f (x) = cos(x) over [0.0, 1.2]. \n",
    "Use 4-, 6-, and 12-nodes (at equal intervals),\n",
    "to construct Newton interpolating polynomials, respectively. Compare the approximation\n",
    "with the exact curve."
   ]
  },
  {
   "cell_type": "code",
   "execution_count": 4,
   "id": "9687866d",
   "metadata": {},
   "outputs": [
    {
     "data": {
      "image/png": "[encoded data removed]",
      "text/plain": [
       "<Figure size 432x288 with 1 Axes>"
      ]
     },
     "metadata": {
      "needs_background": "light"
     },
     "output_type": "display_data"
    }
   ],
   "source": [
    "# Define the exact function\n",
    "def exact_function(x):\n",
    "    return np.cos(x)\n",
    "\n",
    "# Generate nodes at equal intervals\n",
    "def generate_nodes(start, end, num_nodes):\n",
    "    return np.linspace(start, end, num_nodes)\n",
    "\n",
    "# Generate x values for plotting the exact curve\n",
    "x_exact = np.linspace(0.0, 1.2, 1000)\n",
    "y_exact = exact_function(x_exact)\n",
    "\n",
    "# Number of nodes for interpolation\n",
    "node_counts = [4, 6, 12]\n",
    "\n",
    "# Plot the exact curve\n",
    "plt.plot(x_exact, y_exact, label='Exact Curve')\n",
    "\n",
    "# Plot Newton interpolating polynomials for different node counts\n",
    "for nodes in node_counts:\n",
    "    x_nodes = generate_nodes(0.0, 1.2, nodes)\n",
    "    y_nodes = exact_function(x_nodes)\n",
    "    y_interpolated = [newton_polynomial(x_nodes, y_nodes, x) for x in x_exact]\n",
    "\n",
    "    plt.plot(x_exact, y_interpolated, label=f'{nodes}-Nodes Interpolation')\n",
    "\n",
    "# Set plot properties\n",
    "plt.title('Newton Interpolating Polynomials vs Exact Curve')\n",
    "plt.xlabel('x')\n",
    "plt.ylabel('y')\n",
    "plt.legend()\n",
    "plt.grid(True)\n",
    "plt.show()"
   ]
  },
  {
   "cell_type": "markdown",
   "id": "a2f6c904",
   "metadata": {},
   "source": [
    "## 3. Write a program to construct\n",
    "the least-squares line y = Ax + B that fits the N data points (x1 , y1 ), . . . , (xN , yN ).\n",
    "\n",
    "\n",
    "(a) The following data give the distances of the nine planets from the sun and their\n",
    "sidereal periods in days.\n",
    "$$\n",
    "\\begin{array}{|l|c|c|}\n",
    "\\hline \\text { Planet } & \\begin{array}{c}\n",
    "\\text { Distance from } \\\\\n",
    "\\text { sun }\\left(\\mathrm{km} \\times 10^6\\right)\n",
    "\\end{array} & \\begin{array}{c}\n",
    "\\text { Sidereal period } \\\\\n",
    "(\\text { days })\n",
    "\\end{array} \\\\\n",
    "\\hline \\text { Mercury } & 57.59 & 87.99 \\\\\n",
    "\\text { Venus } & 108.11 & 224.70 \\\\\n",
    "\\text { Earth } & 149.57 & 365.26 \\\\\n",
    "\\text { Mars } & 227.84 & 686.98 \\\\\n",
    "\\text { Jupiter } & 778.14 & 4332.4 \\\\\n",
    "\\text { Saturn } & 1427.0 & 10759 \\\\\n",
    "\\text { Uranus } & 2870.3 & 30684 \\\\\n",
    "\\text { Neptune } & 4499.9 & 60188 \\\\\n",
    "\\text { Pluto } & 5909.0 & 90710 \\\\\n",
    "\\hline\n",
    "\\end{array}\n",
    "$$\n",
    "Find the power fit of the form $y = Cx^{3/2}$ for (i) the first four planets and (ii) all\n",
    "nine planets."
   ]
  },
  {
   "cell_type": "code",
   "execution_count": 5,
   "id": "4130e4ee",
   "metadata": {},
   "outputs": [],
   "source": [
    "# Given data for the distances and sidereal periods of planets\n",
    "data = {\n",
    "    'Mercury': (57.59, 87.99),\n",
    "    'Venus': (108.11, 224.70),\n",
    "    'Earth': (149.57, 365.26),\n",
    "    'Mars': (227.84, 686.98),\n",
    "    'Jupiter': (778.14, 4332.4),\n",
    "    'Saturn': (1427.0, 10759),\n",
    "    'Uranus': (2870.3, 30684),\n",
    "    'Neptune': (4499.9, 60188),\n",
    "    'Pluto': (5909.0, 90710)\n",
    "}\n"
   ]
  },
  {
   "cell_type": "code",
   "execution_count": 6,
   "id": "9956d6ff",
   "metadata": {},
   "outputs": [],
   "source": [
    "# Function to perform Gaussian elimination\n",
    "def gaussian_elimination(A, b):\n",
    "    n = len(b)\n",
    "    \n",
    "    # Augment the matrix A with the vector b\n",
    "    augmented_matrix = np.column_stack([A, b])\n",
    "\n",
    "    # Forward elimination\n",
    "    for i in range(n):\n",
    "        pivot_row = augmented_matrix[i, :]\n",
    "        for j in range(i + 1, n):\n",
    "            factor = augmented_matrix[j, i] / pivot_row[i]\n",
    "            augmented_matrix[j, :] -= factor * pivot_row\n",
    "\n",
    "    # Backward substitution\n",
    "    x = np.zeros(n)\n",
    "    for i in range(n - 1, -1, -1):\n",
    "        x[i] = augmented_matrix[i, -1] / augmented_matrix[i, i]\n",
    "        for j in range(i - 1, -1, -1):\n",
    "            augmented_matrix[j, -1] -= augmented_matrix[j, i] * x[i]\n",
    "\n",
    "    return x"
   ]
  },
  {
   "cell_type": "code",
   "execution_count": 7,
   "id": "8bd98072",
   "metadata": {},
   "outputs": [],
   "source": [
    "# Function to perform the power fit\n",
    "def power_fit(x_values, y_values):\n",
    "    n = len(x_values)\n",
    "    x_prime = np.log(x_values)\n",
    "    y_prime = np.log(y_values)\n",
    "\n",
    "    sum_x_prime = np.sum(x_prime)\n",
    "    sum_y_prime = np.sum(y_prime)\n",
    "    sum_x_prime_squared = np.sum(x_prime**2)\n",
    "    sum_x_prime_y_prime = np.sum(x_prime * y_prime)\n",
    "\n",
    "    A = np.array([[n, sum_x_prime], [sum_x_prime, sum_x_prime_squared]])\n",
    "    b = np.array([sum_y_prime, sum_x_prime_y_prime])\n",
    "\n",
    "    # Solve the system using Gaussian elimination\n",
    "    a_coeff, b_coeff = gaussian_elimination(A, b)\n",
    "\n",
    "    C = np.exp(a_coeff)\n",
    "    return C"
   ]
  },
  {
   "cell_type": "code",
   "execution_count": 8,
   "id": "cf0b5f01",
   "metadata": {},
   "outputs": [
    {
     "name": "stdout",
     "output_type": "stream",
     "text": [
      "(i) Power fit for the first four planets: C = 0.2059246530027598\n",
      "(ii) Power fit for all nine planets: C = 0.20125843717484498\n"
     ]
    },
    {
     "data": {
      "image/png": "[encoded data removed]",
      "text/plain": [
       "<Figure size 432x288 with 1 Axes>"
      ]
     },
     "metadata": {
      "needs_background": "light"
     },
     "output_type": "display_data"
    }
   ],
   "source": [
    "# Extract data for the first four planets\n",
    "x_values_first_four = np.array([data[planet][0] for planet in list(data.keys())[:4]])\n",
    "y_values_first_four = np.array([data[planet][1] for planet in list(data.keys())[:4]])\n",
    "\n",
    "# Extract data for all nine planets\n",
    "x_values_all_nine = np.array([data[planet][0] for planet in data.keys()])\n",
    "y_values_all_nine = np.array([data[planet][1] for planet in data.keys()])\n",
    "\n",
    "# Perform power fit for the first four planets\n",
    "C_first_four = power_fit(x_values_first_four, y_values_first_four)\n",
    "\n",
    "# Perform power fit for all nine planets\n",
    "C_all_nine = power_fit(x_values_all_nine, y_values_all_nine)\n",
    "\n",
    "# Print the coefficients\n",
    "print(f'(i) Power fit for the first four planets: C = {C_first_four}')\n",
    "print(f'(ii) Power fit for all nine planets: C = {C_all_nine}')\n",
    "\n",
    "# Plot the data and the power fit curves\n",
    "plt.scatter(x_values_first_four, y_values_first_four, label='First Four Planets')\n",
    "plt.scatter(x_values_all_nine, y_values_all_nine, label='All Nine Planets')\n",
    "\n",
    "x_range = np.linspace(min(x_values_all_nine), max(x_values_all_nine), 100)\n",
    "plt.plot(x_range, C_first_four * x_range**1.5, label='Power Fit (First Four Planets)')\n",
    "plt.plot(x_range, C_all_nine * x_range**1.5, label='Power Fit (All Nine Planets)')\n",
    "\n",
    "plt.xscale('log')\n",
    "plt.yscale('log')\n",
    "plt.xlabel('Distance from sun (km x 10^6)')\n",
    "plt.ylabel('Sidereal period (days)')\n",
    "plt.legend()\n",
    "plt.show()"
   ]
  },
  {
   "cell_type": "markdown",
   "id": "b3fce684",
   "metadata": {},
   "source": [
    "## Logistic population growth. \n",
    "When the population P (t) is bounded by the limiting value L, it follows a logistic curve and has the form \n",
    "\n",
    "$P(t)=\\frac{L}{1+C e^{A t}}$\n",
    "\n",
    "Find A and C by fitting the following data with L = 1000.\n",
    "(0, 200), (1, 400), (2, 650), (3, 850), (4, 950)"
   ]
  },
  {
   "cell_type": "code",
   "execution_count": 9,
   "id": "599937b1",
   "metadata": {},
   "outputs": [],
   "source": [
    "# Given data\n",
    "data = {\n",
    "    0: 200,\n",
    "    1: 400,\n",
    "    2: 650,\n",
    "    3: 850,\n",
    "    4: 950\n",
    "}\n",
    "\n",
    "# Given limiting value\n",
    "L = 1000"
   ]
  },
  {
   "cell_type": "code",
   "execution_count": 10,
   "id": "e512bc98",
   "metadata": {},
   "outputs": [],
   "source": [
    "# Transform the data\n",
    "X_values = np.array(list(data.keys()))\n",
    "Y_values = np.log(L / np.array(list(data.values())) - 1)\n",
    "\n",
    "# Function to perform linear fit\n",
    "def linear_fit(X_values, Y_values):\n",
    "    n = len(X_values)\n",
    "    \n",
    "    sum_X = np.sum(X_values)\n",
    "    sum_Y = np.sum(Y_values)\n",
    "    sum_X_squared = np.sum(X_values**2)\n",
    "    sum_XY = np.sum(X_values * Y_values)\n",
    "\n",
    "    A = np.array([[n, sum_X], [sum_X, sum_X_squared]])\n",
    "    B = np.array([sum_Y, sum_XY])\n",
    "\n",
    "    # Solve the system using Gaussian elimination\n",
    "    a_coeff, b_coeff = gaussian_elimination(A, B)\n",
    "\n",
    "    return a_coeff, b_coeff"
   ]
  },
  {
   "cell_type": "code",
   "execution_count": 11,
   "id": "c998342c",
   "metadata": {},
   "outputs": [
    {
     "name": "stdout",
     "output_type": "stream",
     "text": [
      "A = 1.4590426140672434, B = -1.0801532844068933\n"
     ]
    },
    {
     "data": {
      "image/png": "[encoded data removed]",
      "text/plain": [
       "<Figure size 432x288 with 1 Axes>"
      ]
     },
     "metadata": {
      "needs_background": "light"
     },
     "output_type": "display_data"
    }
   ],
   "source": [
    "# Perform linear fit\n",
    "A_coeff, B_coeff = linear_fit(X_values, Y_values)\n",
    "\n",
    "# Extract A and B from the coefficients\n",
    "A = A_coeff\n",
    "B = B_coeff\n",
    "\n",
    "# Print the coefficients\n",
    "print(f'A = {A}, B = {B}')\n",
    "\n",
    "# Plot the data and the linear fit\n",
    "plt.scatter(X_values, Y_values, label='Data')\n",
    "plt.plot(X_values, A * X_values + B, label='Linear Fit')\n",
    "\n",
    "plt.xlabel('Time (t)')\n",
    "plt.ylabel('ln(L/P - 1)')\n",
    "plt.legend()\n",
    "plt.show()\n"
   ]
  },
  {
   "cell_type": "code",
   "execution_count": null,
   "id": "c322eec9",
   "metadata": {},
   "outputs": [],
   "source": []
  },
  {
   "cell_type": "code",
   "execution_count": null,
   "id": "3de53096",
   "metadata": {},
   "outputs": [],
   "source": []
  }
 ],
 "metadata": {
  "kernelspec": {
   "display_name": "Python 3 (ipykernel)",
   "language": "python",
   "name": "python3"
  },
  "language_info": {
   "codemirror_mode": {
    "name": "ipython",
    "version": 3
   },
   "file_extension": ".py",
   "mimetype": "text/x-python",
   "name": "python",
   "nbconvert_exporter": "python",
   "pygments_lexer": "ipython3",
   "version": "3.10.12"
  }
 },
 "nbformat": 4,
 "nbformat_minor": 5
}
