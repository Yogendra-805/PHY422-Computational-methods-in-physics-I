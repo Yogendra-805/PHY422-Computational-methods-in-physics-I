{
 "cells": [
  {
   "cell_type": "markdown",
   "id": "b28b83a5",
   "metadata": {},
   "source": [
    "## 2. \n",
    "Compare the results of calculating $f(500)$ and $g(500)$ using six digits and rounding. The functions are\n",
    "$$\n",
    "f(x)=x(\\sqrt{x+1}-\\sqrt{x}) \\quad \\text { and } \\quad g(x)=\\frac{x}{\\sqrt{x+1}+\\sqrt{x}}\n",
    "$$"
   ]
  },
  {
   "cell_type": "code",
   "execution_count": 6,
   "id": "e12e7114",
   "metadata": {},
   "outputs": [],
   "source": [
    "import math\n",
    "import matplotlib.pyplot as plt"
   ]
  },
  {
   "cell_type": "code",
   "execution_count": 3,
   "id": "ea56be59",
   "metadata": {},
   "outputs": [
    {
     "name": "stdout",
     "output_type": "stream",
     "text": [
      "f(500): 11.174755\n",
      "g(500): 11.174755\n"
     ]
    }
   ],
   "source": [
    "def f(x):\n",
    "    return x * (math.sqrt(x + 1) - math.sqrt(x))\n",
    "\n",
    "def g(x):\n",
    "    return x / (math.sqrt(x + 1) + math.sqrt(x))\n",
    "\n",
    "# Calculate f(500) and g(500) with six digits and rounding\n",
    "x_value = 500\n",
    "f_result = round(f(x_value), 6)\n",
    "g_result = round(g(x_value), 6)\n",
    "\n",
    "# Print the results\n",
    "print(\"f(500):\", f_result)\n",
    "print(\"g(500):\", g_result)\n"
   ]
  },
  {
   "cell_type": "markdown",
   "id": "81233582",
   "metadata": {},
   "source": [
    "## 3. \n",
    "Compare the results of calculating $f(0.01)$ and $P(0.01)$ using six digits and rounding\n",
    "$$\n",
    "f(x)=\\frac{\\exp x-1-x}{x^2} \\quad \\text { and } \\quad P(x)=\\frac{1}{2}+\\frac{x}{6}+\\frac{x^2}{24}\n",
    "$$\n"
   ]
  },
  {
   "cell_type": "code",
   "execution_count": 4,
   "id": "6f22e2c6",
   "metadata": {},
   "outputs": [
    {
     "name": "stdout",
     "output_type": "stream",
     "text": [
      "f(0.01): 0.501671\n",
      "P(0.01): 0.501671\n"
     ]
    }
   ],
   "source": [
    "def f(x):\n",
    "    return (math.exp(x) - 1 - x) / x**2\n",
    "\n",
    "def P(x):\n",
    "    return 1/2 + x/6 + x**2/24\n",
    "\n",
    "# Calculate f(0.01) and P(0.01) with six digits and rounding\n",
    "x_value = 0.01\n",
    "f_result = round(f(x_value), 6)\n",
    "P_result = round(P(x_value), 6)\n",
    "\n",
    "# Print the results\n",
    "print(\"f(0.01):\", f_result)\n",
    "print(\"P(0.01):\", P_result)\n"
   ]
  },
  {
   "cell_type": "code",
   "execution_count": null,
   "id": "b5267311",
   "metadata": {},
   "outputs": [],
   "source": []
  },
  {
   "cell_type": "markdown",
   "id": "ebc0d8c3",
   "metadata": {},
   "source": [
    "## 4. \n",
    "Use three-digit rounding arithmetic to compute approximations to $P(2.19)$ and $Q(2.19)$ where the functions are\n",
    "$$\n",
    "P(x)=x^3-3 x^2+3 x-1 \\quad \\text { and } \\quad Q(x)=((x-3) x+3) x-1\n",
    "$$"
   ]
  },
  {
   "cell_type": "code",
   "execution_count": 5,
   "id": "216dd90b",
   "metadata": {},
   "outputs": [
    {
     "name": "stdout",
     "output_type": "stream",
     "text": [
      "P(2.19): 1.685\n",
      "Q(2.19): 1.685\n"
     ]
    }
   ],
   "source": [
    "# Function for rounding to three decimal places\n",
    "def round_to_three_digits(value):\n",
    "    return round(value, 3)\n",
    "\n",
    "# Function P(x)\n",
    "def P(x):\n",
    "    return x**3 - 3*x**2 + 3*x - 1\n",
    "\n",
    "# Function Q(x)\n",
    "def Q(x):\n",
    "    return ((x - 3)*x + 3)*x - 1\n",
    "\n",
    "# Calculate P(2.19) and Q(2.19) with three-digit rounding\n",
    "x_value = 2.19\n",
    "P_result = round_to_three_digits(P(x_value))\n",
    "Q_result = round_to_three_digits(Q(x_value))\n",
    "\n",
    "# Print the results\n",
    "print(\"P(2.19):\", P_result)\n",
    "print(\"Q(2.19):\", Q_result)\n"
   ]
  },
  {
   "cell_type": "code",
   "execution_count": null,
   "id": "146f0f2b",
   "metadata": {},
   "outputs": [],
   "source": []
  },
  {
   "cell_type": "code",
   "execution_count": null,
   "id": "7473b220",
   "metadata": {},
   "outputs": [],
   "source": []
  },
  {
   "cell_type": "code",
   "execution_count": null,
   "id": "c7e63a7e",
   "metadata": {},
   "outputs": [],
   "source": []
  },
  {
   "cell_type": "markdown",
   "id": "e30eb32c",
   "metadata": {},
   "source": [
    "## 5. \n",
    "We have seen that the following three schemes can be used with infiniteprecision arithmetic to recursively generate the terms in the sequence $\\left\\{\\frac{1}{3^n}\\right\\}_{n=0}^{\\infty}$\n",
    "\n",
    "\n",
    "1. $r_0=1$ and $r_n=\\frac{1}{3} r_{n-1} \\quad n=1,2, \\ldots$\n",
    "2. $p_0=1, p_1=\\frac{1}{3}$ and $p_n=\\frac{4}{3} p_{n-1}-\\frac{1}{3} p_{n-2} \\quad n=2,3, \\ldots$.\n",
    "3. $q_0=1, q_1=\\frac{1}{3}$ and $q_n=\\frac{10}{3} q_{n-1}-q_{n-2} \\quad n=2,3, \\ldots$\n",
    "\n",
    "\n",
    "Generate approximations to the sequence $\\left\\{\\frac{1}{3^n}\\right\\}_{n=0}^{\\infty}$ using the above schemes when an initial error in $r_0, p_1$ and $q_1$ is introduced. The above recursion relations read as:\n",
    "\n",
    "\n",
    "1. $r_0=0.99996$ and $r_n=\\frac{1}{3} r_{n-1} \\quad n=1,2, \\ldots$\n",
    "2. $p_0=1, p_1=0.33332$ and $p_n=\\frac{4}{3} p_{n-1}-\\frac{1}{3} p_{n-2} \\quad n=2,3, \\ldots$\n",
    "3. $q_0=1, q_1=0.33332$ and $q_n=\\frac{10}{3} q_{n-1}-q_{n-2} \\quad n=2,3, \\ldots$\n",
    "\n",
    "\n",
    "Investigate the propagation of error for each scheme. Identify if the algorithm to generate the sequence is stable or unstable."
   ]
  },
  {
   "cell_type": "code",
   "execution_count": 7,
   "id": "69f4acdc",
   "metadata": {},
   "outputs": [
    {
     "data": {
      "image/png": "[encoded data removed]",
      "text/plain": [
       "<Figure size 432x288 with 1 Axes>"
      ]
     },
     "metadata": {
      "needs_background": "light"
     },
     "output_type": "display_data"
    }
   ],
   "source": [
    "# Function for the first scheme\n",
    "def scheme1(r0, n_max):\n",
    "    r_values = [r0]\n",
    "    for n in range(1, n_max + 1):\n",
    "        r_values.append((1/3) * r_values[-1])\n",
    "    return r_values\n",
    "\n",
    "# Function for the second scheme\n",
    "def scheme2(p0, p1, n_max):\n",
    "    p_values = [p0, p1]\n",
    "    for n in range(2, n_max + 1):\n",
    "        p_values.append((4/3) * p_values[-1] - (1/3) * p_values[-2])\n",
    "    return p_values\n",
    "\n",
    "# Function for the third scheme\n",
    "def scheme3(q0, q1, n_max):\n",
    "    q_values = [q0, q1]\n",
    "    for n in range(2, n_max + 1):\n",
    "        q_values.append((10/3) * q_values[-1] - q_values[-2])\n",
    "    return q_values\n",
    "\n",
    "# Initial conditions with introduced errors\n",
    "r0_error = 0.00004\n",
    "p1_error = 0.00002\n",
    "q1_error = 0.00002\n",
    "\n",
    "# Generate sequences for each scheme\n",
    "n_max = 20\n",
    "r_sequence = scheme1(1 - r0_error, n_max)\n",
    "p_sequence = scheme2(1, 1/3 - p1_error, n_max)\n",
    "q_sequence = scheme3(1, 1/3 - q1_error, n_max)\n",
    "\n",
    "# Plot the sequences\n",
    "plt.plot(range(n_max + 1), r_sequence, label='Scheme 1')\n",
    "plt.plot(range(n_max + 1), p_sequence, label='Scheme 2')\n",
    "plt.plot(range(n_max + 1), q_sequence, label='Scheme 3')\n",
    "\n",
    "plt.xlabel('n')\n",
    "plt.ylabel('Term value')\n",
    "plt.title('Propagation of Error in Sequence Generation Schemes')\n",
    "plt.legend()\n",
    "plt.show()\n"
   ]
  },
  {
   "cell_type": "code",
   "execution_count": null,
   "id": "47338951",
   "metadata": {},
   "outputs": [],
   "source": []
  }
 ],
 "metadata": {
  "kernelspec": {
   "display_name": "Python 3 (ipykernel)",
   "language": "python",
   "name": "python3"
  },
  "language_info": {
   "codemirror_mode": {
    "name": "ipython",
    "version": 3
   },
   "file_extension": ".py",
   "mimetype": "text/x-python",
   "name": "python",
   "nbconvert_exporter": "python",
   "pygments_lexer": "ipython3",
   "version": "3.10.12"
  }
 },
 "nbformat": 4,
 "nbformat_minor": 5
}
